{
 "cells": [
  {
   "cell_type": "code",
   "execution_count": null,
   "metadata": {
    "_cell_guid": "79c7e3d0-c299-4dcb-8224-4455121ee9b0",
    "_uuid": "d629ff2d2480ee46fbb7e2d37f6b5fab8052498a"
   },
   "outputs": [],
   "source": [
    "from sklearn.tree import DecisionTreeClassifier\n",
    "from sklearn.ensemble import *\n",
    "from sklearn.model_selection import cross_validate, GridSearchCV\n",
    "from sklearn.preprocessing import StandardScaler\n",
    "from sklearn.metrics import roc_auc_score, accuracy_score\n",
    "import matplotlib.pyplot as plt\n",
    "\n",
    "import pandas as pd\n",
    "import numpy as np"
   ]
  },
  {
   "cell_type": "code",
   "execution_count": 48,
   "metadata": {
    "_cell_guid": "",
    "_uuid": ""
   },
   "outputs": [
    {
     "name": "stderr",
     "output_type": "stream",
     "text": [
      "C:\\ProgramData\\Anaconda3\\lib\\site-packages\\ipykernel_launcher.py:3: FutureWarning: Sorting because non-concatenation axis is not aligned. A future version\n",
      "of pandas will change to not sort by default.\n",
      "\n",
      "To accept the future behavior, pass 'sort=False'.\n",
      "\n",
      "To retain the current behavior and silence the warning, pass 'sort=True'.\n",
      "\n",
      "  This is separate from the ipykernel package so we can avoid doing imports until\n"
     ]
    }
   ],
   "source": [
    "train_df = pd.read_csv(\"data/public_train_trx.csv\")\n",
    "test_df = pd.read_csv(\"data/public_test_trx.csv\")\n",
    "alldf = pd.concat([train_df,test_df])\n",
    "alldf = alldf.sort_values(['session_id','duration_of_session','click_num'])\n",
    "alldf = alldf.reset_index(drop=True)\n",
    "target = 'TARGET_successful_purchase'"
   ]
  },
  {
   "cell_type": "code",
   "execution_count": 49,
   "metadata": {},
   "outputs": [],
   "source": [
    "def columns_to_onehot(columnes_to_onehot, data):\n",
    "    for column in columnes_to_onehot:\n",
    "        one_hot = pd.get_dummies(data[column])\n",
    "        one_hot.columns = one_hot.columns.map(str)\n",
    "        one_hot.columns = one_hot.columns + '_' + column\n",
    "        data = data.drop(column, axis=1)\n",
    "        data = data.join(one_hot)\n",
    "    return data\n",
    "\n",
    "alldf = columns_to_onehot(['regio_of_customer'], alldf)"
   ]
  },
  {
   "cell_type": "code",
   "execution_count": 50,
   "metadata": {},
   "outputs": [],
   "source": [
    "alldf['start_time_of_session_day_of_year'] = pd.to_datetime(alldf.start_date_of_session).dt.dayofyear\n",
    "alldf['start_weekday_of_session'] = pd.to_datetime(alldf.start_date_of_session).dt.weekday\n",
    "alldf['start_time_of_session_hour'] = pd.to_datetime(alldf.start_time_of_session).dt.hour\n",
    "alldf['start_time_of_session_early'] = alldf['start_time_of_session_hour'] < 8"
   ]
  },
  {
   "cell_type": "code",
   "execution_count": 51,
   "metadata": {},
   "outputs": [],
   "source": [
    "alldf = alldf.fillna(0)\n",
    "# alldf['lifetime_customer_account'] = alldf['lifetime_customer_account'].replace(-1, 0)\n",
    "aggregalando_valtozok = list(alldf.columns)\n",
    "aggregalando_valtozok.remove('test_or_train_flag')\n",
    "aggregalando_valtozok.remove(target)\n",
    "aggregalando_valtozok.remove('start_date_of_session')\n",
    "aggregalando_valtozok.remove('start_time_of_session')\n",
    "aggregalando_valtozok.remove('session_id')"
   ]
  },
  {
   "cell_type": "code",
   "execution_count": 52,
   "metadata": {},
   "outputs": [
    {
     "data": {
      "text/plain": [
       "[<matplotlib.lines.Line2D at 0x2309cc6add8>]"
      ]
     },
     "execution_count": 52,
     "metadata": {},
     "output_type": "execute_result"
    },
    {
     "data": {
      "image/png": "[encoded data removed]",
      "text/plain": [
       "<Figure size 432x288 with 1 Axes>"
      ]
     },
     "metadata": {
      "needs_background": "light"
     },
     "output_type": "display_data"
    }
   ],
   "source": [
    "plt.plot(alldf.groupby('start_time_of_session_hour',as_index=False).agg({target:'mean'})['TARGET_successful_purchase'])"
   ]
  },
  {
   "cell_type": "code",
   "execution_count": 53,
   "metadata": {},
   "outputs": [
    {
     "data": {
      "text/plain": [
       "[<matplotlib.lines.Line2D at 0x2309cca9e48>]"
      ]
     },
     "execution_count": 53,
     "metadata": {},
     "output_type": "execute_result"
    },
    {
     "data": {
      "image/png": "[encoded data removed]",
      "text/plain": [
       "<Figure size 432x288 with 1 Axes>"
      ]
     },
     "metadata": {
      "needs_background": "light"
     },
     "output_type": "display_data"
    }
   ],
   "source": [
    "plt.plot(alldf.groupby('start_time_of_session_hour',as_index=False).agg({target:'count'})['TARGET_successful_purchase'])"
   ]
  },
  {
   "cell_type": "code",
   "execution_count": 54,
   "metadata": {},
   "outputs": [
    {
     "data": {
      "text/plain": [
       "0     0.283010\n",
       "1     0.273609\n",
       "2     0.317447\n",
       "3     0.260718\n",
       "4     0.282086\n",
       "5     0.158974\n",
       "6     0.323549\n",
       "7     0.290643\n",
       "8     0.345948\n",
       "9     0.328446\n",
       "10    0.325468\n",
       "11    0.342411\n",
       "12    0.363781\n",
       "13    0.376256\n",
       "14    0.356930\n",
       "15    0.380229\n",
       "16    0.366884\n",
       "17    0.337877\n",
       "18    0.383834\n",
       "19    0.369962\n",
       "20    0.366440\n",
       "21    0.348608\n",
       "22    0.327448\n",
       "23    0.283875\n",
       "Name: TARGET_successful_purchase, dtype: float64"
      ]
     },
     "execution_count": 54,
     "metadata": {},
     "output_type": "execute_result"
    }
   ],
   "source": [
    "alldf.groupby('start_time_of_session_hour',as_index=False).agg({target:'mean'})['TARGET_successful_purchase']"
   ]
  },
  {
   "cell_type": "code",
   "execution_count": 55,
   "metadata": {},
   "outputs": [],
   "source": [
    "cust_df = alldf.groupby('session_id',as_index=False).agg({target:'min',\n",
    "                                        'test_or_train_flag':'min'})\n",
    "for aggregalos_modszer in ['min','max', 'mean']:\n",
    "    task={}\n",
    "    ujoszlonevek=[]\n",
    "    for v in aggregalando_valtozok:\n",
    "        task[v]=aggregalos_modszer\n",
    "        ujoszlonevek.append(aggregalos_modszer+\"_\"+v)\n",
    "    stat = alldf.groupby(['session_id'],as_index=False).agg(task)\n",
    "    stat.columns=['session_id']+ujoszlonevek\n",
    "    cust_df = cust_df.merge(stat,on='session_id',how='left')"
   ]
  },
  {
   "cell_type": "code",
   "execution_count": 56,
   "metadata": {},
   "outputs": [],
   "source": [
    "cust_df['click_per_durr'] = cust_df['max_click_num'] / cust_df['max_duration_of_session']\n",
    "cust_df['vis_price_per_durr'] = cust_df['max_sum_price_of_visited_products'] / cust_df['max_duration_of_session']\n",
    "cust_df['basket_elem_per_durr'] = cust_df['max_basket_element_number'] / cust_df['max_duration_of_session']\n",
    "cust_df['basket_sum_per_durr'] = cust_df['max_sum_price_of_products_in_basket'] / cust_df['max_duration_of_session']\n",
    "\n",
    "cust_df['bought_elem_visited_price_ratio'] = cust_df['max_basket_element_number'] / cust_df['max_sum_price_of_visited_products']\n",
    "\n",
    "cust_df['bought_price_visited_price_ratio'] = cust_df['max_sum_price_of_products_in_basket']  / cust_df['max_sum_price_of_visited_products']\n",
    "\n",
    "cust_df['payment_per_cust_existance'] = cust_df['max_num_of_previous_payments'] / cust_df['max_lifetime_customer_account']\n",
    "\n",
    "cust_df['max_registration_age'] = cust_df['max_customer_age'] - (cust_df['max_lifetime_customer_account'] / 365)\n",
    "\n",
    "cust_df.replace(np.inf, 0, inplace=True)\n",
    "cust_df.fillna(0, inplace=True)"
   ]
  },
  {
   "cell_type": "code",
   "execution_count": 57,
   "metadata": {},
   "outputs": [],
   "source": [
    "from sklearn.preprocessing import PolynomialFeatures\n",
    "\n",
    "bemeno_valtozok = list(cust_df.columns)[3:]\n",
    "ismert_df = cust_df[ cust_df['test_or_train_flag']==0].copy()\n",
    "# x_train = ismert_df[bemeno_valtozok]\n",
    "# y_train = ismert_df[target]\n",
    "# x_pred = cust_df[cust_df['test_or_train_flag'] == 1][bemeno_valtozok]\n",
    "\n",
    "# poly = PolynomialFeatures(2)\n",
    "# x_train = poly.fit_transform(x_train.to_numpy())\n",
    "# x_pred = poly.transform(x_pred.to_numpy())\n",
    "\n",
    "# scaler = StandardScaler()\n",
    "# x_train = scaler.fit_transform(x_train)\n",
    "# x_pred = scaler.transform(x_pred)\n",
    "# print(f\"Training set size: {x_train.shape}\")"
   ]
  },
  {
   "cell_type": "code",
   "execution_count": 58,
   "metadata": {},
   "outputs": [
    {
     "data": {
      "text/html": [
       "<div>\n",
       "<style scoped>\n",
       "    .dataframe tbody tr th:only-of-type {\n",
       "        vertical-align: middle;\n",
       "    }\n",
       "\n",
       "    .dataframe tbody tr th {\n",
       "        vertical-align: top;\n",
       "    }\n",
       "\n",
       "    .dataframe thead th {\n",
       "        text-align: right;\n",
       "    }\n",
       "</style>\n",
       "<table border=\"1\" class=\"dataframe\">\n",
       "  <thead>\n",
       "    <tr style=\"text-align: right;\">\n",
       "      <th></th>\n",
       "      <th>TARGET_successful_purchase</th>\n",
       "    </tr>\n",
       "    <tr>\n",
       "      <th>TARGET_successful_purchase</th>\n",
       "      <th></th>\n",
       "    </tr>\n",
       "  </thead>\n",
       "  <tbody>\n",
       "    <tr>\n",
       "      <th>0.0</th>\n",
       "      <td>11883</td>\n",
       "    </tr>\n",
       "    <tr>\n",
       "      <th>1.0</th>\n",
       "      <td>12701</td>\n",
       "    </tr>\n",
       "  </tbody>\n",
       "</table>\n",
       "</div>"
      ],
      "text/plain": [
       "                            TARGET_successful_purchase\n",
       "TARGET_successful_purchase                            \n",
       "0.0                                              11883\n",
       "1.0                                              12701"
      ]
     },
     "execution_count": 58,
     "metadata": {},
     "output_type": "execute_result"
    }
   ],
   "source": [
    "ismert_df.groupby(['TARGET_successful_purchase']).agg({target:'count'})"
   ]
  },
  {
   "cell_type": "code",
   "execution_count": 59,
   "metadata": {},
   "outputs": [],
   "source": [
    "def rounding_score_decorator(score):\n",
    "    return lambda y_true, y_pred: score(y_true, y_pred > 0.5)\n",
    "\n",
    "def text2score(optimalization):\n",
    "    if optimalization == 'AUC':\n",
    "        score = roc_auc_score\n",
    "    elif optimalization == 'Precision':\n",
    "        score = rounding_score_decorator(precision_score)\n",
    "    elif optimalization == 'Recall':\n",
    "        score = rounding_score_decorator(recall_score)\n",
    "    elif optimalization == 'Accuracy':\n",
    "        score = rounding_score_decorator(accuracy_score)\n",
    "    return score\n",
    "\n",
    "def modell_evaluator(data, input_attributes, target_attribute, model, n=1):\n",
    "    def test_attributes(fix_input, possible_inputs):\n",
    "        best_score = -1\n",
    "        best_input = None\n",
    "        for possible_input in possible_inputs:\n",
    "            x_train = data[fix_input + [possible_input]].to_numpy()\n",
    "            poly = PolynomialFeatures(n)\n",
    "            x_train = poly.fit_transform(x_train)\n",
    "#             scaler = StandardScaler()\n",
    "#             x_train = scaler.fit_transform(x_train)\n",
    "            \n",
    "            cv_results = cross_validate(model,\n",
    "                            x_train, data[target_attribute],\n",
    "                            scoring=['roc_auc', 'accuracy'], cv=3, n_jobs=4)\n",
    "            s = cv_results['test_roc_auc'].mean()\n",
    "            if s > best_score:\n",
    "                best_score = s\n",
    "                best_input = possible_input\n",
    "        return best_input, best_score\n",
    "    good_inputs = []\n",
    "    in_race_inputs = input_attributes\n",
    "    best_s = -1\n",
    "    while len(in_race_inputs):\n",
    "        i_to_accept, s = test_attributes(good_inputs, input_attributes)\n",
    "        print(i_to_accept, s)\n",
    "        if s < best_s:\n",
    "            return best_s, good_inputs\n",
    "        \n",
    "        best_s = s\n",
    "        good_inputs.append(i_to_accept)\n",
    "        in_race_inputs.remove(i_to_accept)\n",
    "    return best_s, good_inputs"
   ]
  },
  {
   "cell_type": "code",
   "execution_count": 60,
   "metadata": {},
   "outputs": [
    {
     "name": "stdout",
     "output_type": "stream",
     "text": [
      "max_level_of_purchasing_process 0.7280654189890455\n",
      "mean_lifetime_customer_account 0.8265236239212973\n",
      "mean_basket_element_number 0.8391754509133817\n",
      "mean_customer_value 0.8486843425676209\n",
      "max_basket_element_number 0.8560340806916086\n",
      "mean_level_of_purchasing_process 0.8623530803911796\n",
      "max_customer_age 0.8641460329778985\n",
      "max_sum_price_of_products_in_basket 0.8659781221059957\n",
      "min_level_of_purchasing_process 0.8669580792821007\n",
      "min_start_time_of_session_early 0.8675137887134028\n",
      "bought_elem_visited_price_ratio 0.8679533502536767\n",
      "max_click_num 0.8682335528114381\n",
      "max_last_order_of_customer 0.8685314614384007\n",
      "min_start_time_of_session_day_of_year 0.8687180696216902\n",
      "min_last_order_of_customer 0.8689239855277858\n",
      "min_num_of_previous_payments 0.868891194304419\n"
     ]
    },
    {
     "data": {
      "text/plain": [
       "(0.8689239855277858,\n",
       " ['max_level_of_purchasing_process',\n",
       "  'mean_lifetime_customer_account',\n",
       "  'mean_basket_element_number',\n",
       "  'mean_customer_value',\n",
       "  'max_basket_element_number',\n",
       "  'mean_level_of_purchasing_process',\n",
       "  'max_customer_age',\n",
       "  'max_sum_price_of_products_in_basket',\n",
       "  'min_level_of_purchasing_process',\n",
       "  'min_start_time_of_session_early',\n",
       "  'bought_elem_visited_price_ratio',\n",
       "  'max_click_num',\n",
       "  'max_last_order_of_customer',\n",
       "  'min_start_time_of_session_day_of_year',\n",
       "  'min_last_order_of_customer'])"
      ]
     },
     "execution_count": 60,
     "metadata": {},
     "output_type": "execute_result"
    }
   ],
   "source": [
    "from sklearn.linear_model import LogisticRegression\n",
    "modell_evaluator(ismert_df, \n",
    "                 bemeno_valtozok, \n",
    "                 target,\n",
    "                 LogisticRegression())"
   ]
  },
  {
   "cell_type": "code",
   "execution_count": null,
   "metadata": {},
   "outputs": [],
   "source": [
    "from sklearn.svm import SVC\n",
    "modell_evaluator(ismert_df, \n",
    "                 bemeno_valtozok, \n",
    "                 target,\n",
    "                 SVC())"
   ]
  },
  {
   "cell_type": "code",
   "execution_count": null,
   "metadata": {},
   "outputs": [],
   "source": [
    "from sklearn.neighbors import *\n",
    "modell_evaluator(ismert_df, \n",
    "                 bemeno_valtozok, \n",
    "                 target,\n",
    "                 KNeighborsClassifier())"
   ]
  },
  {
   "cell_type": "code",
   "execution_count": 118,
   "metadata": {},
   "outputs": [
    {
     "name": "stdout",
     "output_type": "stream",
     "text": [
      "max_lifetime_customer_account 0.7055599738134882\n",
      "min_level_of_purchasing_process 0.7075005741604153\n",
      "min_lifetime_customer_account 0.7069829434854574\n"
     ]
    },
    {
     "data": {
      "text/plain": [
       "(0.7075005741604153,\n",
       " ['max_lifetime_customer_account', 'min_level_of_purchasing_process'])"
      ]
     },
     "execution_count": 118,
     "metadata": {},
     "output_type": "execute_result"
    }
   ],
   "source": [
    "from sklearn.tree import *\n",
    "modell_evaluator(ismert_df, \n",
    "                 bemeno_valtozok, \n",
    "                 target,\n",
    "                 DecisionTreeClassifier())"
   ]
  },
  {
   "cell_type": "code",
   "execution_count": 61,
   "metadata": {},
   "outputs": [
    {
     "ename": "NameError",
     "evalue": "name 'x_train' is not defined",
     "output_type": "error",
     "traceback": [
      "\u001b[1;31m---------------------------------------------------------------------------\u001b[0m",
      "\u001b[1;31mNameError\u001b[0m                                 Traceback (most recent call last)",
      "\u001b[1;32m<ipython-input-61-8553bd048478>\u001b[0m in \u001b[0;36m<module>\u001b[1;34m\u001b[0m\n\u001b[0;32m      1\u001b[0m cv_results = cross_validate(DecisionTreeClassifier(max_depth = 6),\n\u001b[1;32m----> 2\u001b[1;33m                             \u001b[0mx_train\u001b[0m\u001b[1;33m,\u001b[0m \u001b[0my_train\u001b[0m\u001b[1;33m,\u001b[0m\u001b[1;33m\u001b[0m\u001b[1;33m\u001b[0m\u001b[0m\n\u001b[0m\u001b[0;32m      3\u001b[0m                             scoring=['roc_auc', 'accuracy'], cv=3, n_jobs=4)\n\u001b[0;32m      4\u001b[0m \u001b[0mauc\u001b[0m \u001b[1;33m=\u001b[0m \u001b[0mcv_results\u001b[0m\u001b[1;33m[\u001b[0m\u001b[1;34m'test_roc_auc'\u001b[0m\u001b[1;33m]\u001b[0m\u001b[1;33m.\u001b[0m\u001b[0mmean\u001b[0m\u001b[1;33m(\u001b[0m\u001b[1;33m)\u001b[0m\u001b[1;33m\u001b[0m\u001b[1;33m\u001b[0m\u001b[0m\n\u001b[0;32m      5\u001b[0m \u001b[0mprint\u001b[0m\u001b[1;33m(\u001b[0m\u001b[1;34mf\"\\t{auc},\\t{cv_results['test_accuracy'].mean()}\"\u001b[0m\u001b[1;33m)\u001b[0m\u001b[1;33m\u001b[0m\u001b[1;33m\u001b[0m\u001b[0m\n",
      "\u001b[1;31mNameError\u001b[0m: name 'x_train' is not defined"
     ]
    }
   ],
   "source": [
    "cv_results = cross_validate(DecisionTreeClassifier(max_depth = 6),\n",
    "                            x_train, y_train,\n",
    "                            scoring=['roc_auc', 'accuracy'], cv=3, n_jobs=4)\n",
    "auc = cv_results['test_roc_auc'].mean()\n",
    "print(f\"\\t{auc},\\t{cv_results['test_accuracy'].mean()}\")"
   ]
  },
  {
   "cell_type": "code",
   "execution_count": null,
   "metadata": {},
   "outputs": [],
   "source": [
    "model = RandomForestClassifier(max_depth = 14, n_estimators = 1000)\n",
    "model.fit(x_train, y_train)\n",
    "pred = model.predict_proba(x_pred)\n",
    "# accuracy_score(ismert_df[target],model.predict(ismert_df[bemeno_valtozok]))"
   ]
  }
 ],
 "metadata": {
  "kernelspec": {
   "display_name": "Python 3",
   "language": "python",
   "name": "python3"
  },
  "language_info": {
   "codemirror_mode": {
    "name": "ipython",
    "version": 3
   },
   "file_extension": ".py",
   "mimetype": "text/x-python",
   "name": "python",
   "nbconvert_exporter": "python",
   "pygments_lexer": "ipython3",
   "version": "3.7.1"
  }
 },
 "nbformat": 4,
 "nbformat_minor": 1
}
