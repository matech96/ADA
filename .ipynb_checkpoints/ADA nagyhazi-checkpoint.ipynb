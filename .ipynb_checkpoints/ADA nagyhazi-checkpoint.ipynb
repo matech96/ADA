{
 "cells": [
  {
   "cell_type": "code",
   "execution_count": 1,
   "metadata": {
    "_cell_guid": "79c7e3d0-c299-4dcb-8224-4455121ee9b0",
    "_uuid": "d629ff2d2480ee46fbb7e2d37f6b5fab8052498a"
   },
   "outputs": [],
   "source": [
    "from sklearn.tree import DecisionTreeClassifier\n",
    "from sklearn.ensemble import *\n",
    "from sklearn.model_selection import cross_validate, GridSearchCV\n",
    "from sklearn.preprocessing import StandardScaler\n",
    "from sklearn.metrics import roc_auc_score, accuracy_score\n",
    "import matplotlib.pyplot as plt\n",
    "\n",
    "import pandas as pd\n",
    "import numpy as np\n",
    "\n",
    "from load_data import get_data"
   ]
  },
  {
   "cell_type": "code",
   "execution_count": 2,
   "metadata": {},
   "outputs": [
    {
     "name": "stderr",
     "output_type": "stream",
     "text": [
      "C:\\Users\\gango\\Projects\\ADA\\load_data.py:9: FutureWarning: Sorting because non-concatenation axis is not aligned. A future version\n",
      "of pandas will change to not sort by default.\n",
      "\n",
      "To accept the future behavior, pass 'sort=False'.\n",
      "\n",
      "To retain the current behavior and silence the warning, pass 'sort=True'.\n",
      "\n",
      "  alldf = pd.concat([train_df,test_df])\n"
     ]
    },
    {
     "name": "stdout",
     "output_type": "stream",
     "text": [
      "Training set size: (24584, 51)\n"
     ]
    }
   ],
   "source": [
    "x_train, y_train, x_pred = get_data()"
   ]
  },
  {
   "cell_type": "code",
   "execution_count": 3,
   "metadata": {},
   "outputs": [],
   "source": [
    "from sklearn.linear_model import LogisticRegression, RidgeClassifier, Lasso, ElasticNet, Lars, LassoLars, OrthogonalMatchingPursuit, BayesianRidge, SGDClassifier\n",
    "from sklearn.neighbors import KNeighborsClassifier\n",
    "from sklearn.tree import DecisionTreeClassifier"
   ]
  },
  {
   "cell_type": "code",
   "execution_count": 4,
   "metadata": {},
   "outputs": [],
   "source": [
    "def train_model(model):\n",
    "    cv_results = cross_validate(model,\n",
    "                                x_train, y_train,\n",
    "                                scoring=['roc_auc'], cv=5, n_jobs=4)\n",
    "    auc = cv_results['test_roc_auc'].mean()\n",
    "    print(f\"{type(model)}: {auc}\")\n",
    "    return auc"
   ]
  },
  {
   "cell_type": "code",
   "execution_count": 5,
   "metadata": {},
   "outputs": [
    {
     "name": "stdout",
     "output_type": "stream",
     "text": [
      "<class 'sklearn.linear_model._logistic.LogisticRegression'>: 0.8677443689179304\n",
      "<class 'sklearn.linear_model._ridge.RidgeClassifier'>: 0.8669235641572538\n",
      "<class 'sklearn.linear_model._coordinate_descent.Lasso'>: 0.5\n",
      "<class 'sklearn.linear_model._coordinate_descent.ElasticNet'>: 0.5\n",
      "<class 'sklearn.linear_model._least_angle.Lars'>: 0.6583198103288719\n",
      "<class 'sklearn.linear_model._least_angle.LassoLars'>: 0.5\n",
      "<class 'sklearn.linear_model._omp.OrthogonalMatchingPursuit'>: 0.8510286230628956\n",
      "<class 'sklearn.linear_model._bayes.BayesianRidge'>: 0.8669256398368418\n",
      "<class 'sklearn.linear_model._stochastic_gradient.SGDClassifier'>: 0.8475698182242606\n",
      "{<class 'sklearn.linear_model._logistic.LogisticRegression'>: 0.8677443689179304, <class 'sklearn.linear_model._ridge.RidgeClassifier'>: 0.8669235641572538, <class 'sklearn.linear_model._coordinate_descent.Lasso'>: 0.5, <class 'sklearn.linear_model._coordinate_descent.ElasticNet'>: 0.5, <class 'sklearn.linear_model._least_angle.Lars'>: 0.6583198103288719, <class 'sklearn.linear_model._least_angle.LassoLars'>: 0.5, <class 'sklearn.linear_model._omp.OrthogonalMatchingPursuit'>: 0.8510286230628956, <class 'sklearn.linear_model._bayes.BayesianRidge'>: 0.8669256398368418, <class 'sklearn.linear_model._stochastic_gradient.SGDClassifier'>: 0.8475698182242606}\n",
      "Wall time: 5.68 s\n"
     ]
    }
   ],
   "source": [
    "%%time\n",
    "models = [LogisticRegression(), RidgeClassifier(), Lasso(), ElasticNet(), Lars(), LassoLars(), OrthogonalMatchingPursuit(), BayesianRidge(), SGDClassifier()]\n",
    "linera_models_res = {type(model): train_model(model) for model in models}\n",
    "print(linera_models_res)"
   ]
  },
  {
   "cell_type": "code",
   "execution_count": 6,
   "metadata": {},
   "outputs": [
    {
     "data": {
      "text/plain": [
       "{sklearn.linear_model._logistic.LogisticRegression: 0.8677443689179304,\n",
       " sklearn.neighbors._classification.KNeighborsClassifier: 0.8315843566634321,\n",
       " sklearn.tree._classes.DecisionTreeClassifier: 0.7370744180624399}"
      ]
     },
     "execution_count": 6,
     "metadata": {},
     "output_type": "execute_result"
    }
   ],
   "source": [
    "linera_models_res"
   ]
  },
  {
   "cell_type": "code",
   "execution_count": null,
   "metadata": {},
   "outputs": [],
   "source": []
  },
  {
   "cell_type": "code",
   "execution_count": null,
   "metadata": {},
   "outputs": [],
   "source": []
  },
  {
   "cell_type": "code",
   "execution_count": null,
   "metadata": {},
   "outputs": [],
   "source": []
  },
  {
   "cell_type": "code",
   "execution_count": null,
   "metadata": {},
   "outputs": [],
   "source": []
  },
  {
   "cell_type": "code",
   "execution_count": null,
   "metadata": {},
   "outputs": [],
   "source": []
  },
  {
   "cell_type": "code",
   "execution_count": null,
   "metadata": {},
   "outputs": [],
   "source": []
  },
  {
   "cell_type": "code",
   "execution_count": null,
   "metadata": {},
   "outputs": [],
   "source": []
  },
  {
   "cell_type": "code",
   "execution_count": null,
   "metadata": {},
   "outputs": [],
   "source": []
  },
  {
   "cell_type": "code",
   "execution_count": null,
   "metadata": {},
   "outputs": [],
   "source": []
  },
  {
   "cell_type": "code",
   "execution_count": null,
   "metadata": {},
   "outputs": [],
   "source": []
  },
  {
   "cell_type": "code",
   "execution_count": null,
   "metadata": {},
   "outputs": [],
   "source": []
  },
  {
   "cell_type": "code",
   "execution_count": null,
   "metadata": {},
   "outputs": [],
   "source": []
  },
  {
   "cell_type": "code",
   "execution_count": null,
   "metadata": {},
   "outputs": [],
   "source": [
    "param_grid = {'n_estimators': [10, 50, 100], 'max_depth': [14]}\n",
    "clf = GridSearchCV(RandomForestClassifier(),\n",
    "                   scoring='roc_auc',\n",
    "                   param_grid=param_grid, cv=5, n_jobs=4)\n",
    "\n",
    "print(clf.fit(x_train, y_train))"
   ]
  },
  {
   "cell_type": "code",
   "execution_count": null,
   "metadata": {},
   "outputs": [],
   "source": [
    "best_i = np.argmax(clf.cv_results_['mean_test_score'])\n",
    "print(f\"Best auc: {np.max(clf.cv_results_['mean_test_score'])}\")\n",
    "print(f\"Best params: {clf.cv_results_['params'][best_i]}\")"
   ]
  },
  {
   "cell_type": "code",
   "execution_count": null,
   "metadata": {},
   "outputs": [],
   "source": [
    "plt.imshow(clf.cv_results_['mean_test_score'])"
   ]
  },
  {
   "cell_type": "code",
   "execution_count": null,
   "metadata": {},
   "outputs": [],
   "source": [
    "clf.cv_results_['params']"
   ]
  },
  {
   "cell_type": "code",
   "execution_count": null,
   "metadata": {},
   "outputs": [],
   "source": [
    "pred = clf.predict_proba(x_train)[:, 1]\n",
    "roc_auc_score(y_train, pred)"
   ]
  },
  {
   "cell_type": "code",
   "execution_count": null,
   "metadata": {},
   "outputs": [],
   "source": [
    "y_train.to_numpy().astype(np.int).shape, pred.shape"
   ]
  },
  {
   "cell_type": "code",
   "execution_count": null,
   "metadata": {},
   "outputs": [],
   "source": [
    "# aucs = []\n",
    "# max_depths = []\n",
    "# for max_depth in range(2,16):\n",
    "#     cv_results = cross_validate(RandomForestClassifier(max_depth=max_depth),\n",
    "#                                 x_train, y_train,\n",
    "#                                 scoring=['roc_auc', 'accuracy'], cv=5)\n",
    "#     auc = cv_results['test_roc_auc'].mean()\n",
    "#     aucs.append(auc)\n",
    "#     max_depths.append(max_depth)\n",
    "#     print(f\"Fa melyseg: {max_depth}\\t{auc},\\t{cv_results['test_accuracy'].mean()}\")"
   ]
  },
  {
   "cell_type": "code",
   "execution_count": null,
   "metadata": {},
   "outputs": [],
   "source": [
    "cv_results = cross_validate(DecisionTreeClassifier(max_depth = 14),\n",
    "                            x_train, y_train,\n",
    "                            scoring=['roc_auc', 'accuracy'], cv=5, n_jobs=-1)\n",
    "auc = cv_results['test_roc_auc'].mean()\n",
    "print(f\"\\t{auc},\\t{cv_results['test_accuracy'].mean()}\")"
   ]
  },
  {
   "cell_type": "code",
   "execution_count": null,
   "metadata": {},
   "outputs": [],
   "source": [
    "# plt.plot(max_depths, aucs)\n",
    "# plt.show()\n",
    "# print(f\"Best max_depth: {max_depths[np.argmax(aucs)]}\")\n",
    "# print(f\"Best auc: {np.max(aucs)}\")"
   ]
  },
  {
   "cell_type": "code",
   "execution_count": null,
   "metadata": {},
   "outputs": [],
   "source": [
    "model = ExtraTreesClassifier(max_depth = 14, n_estimators = 1000)\n",
    "model.fit(x_train, y_train)\n",
    "pred = model.predict_proba(x_pred)\n",
    "# accuracy_score(ismert_df[target],model.predict(ismert_df[bemeno_valtozok]))"
   ]
  },
  {
   "cell_type": "code",
   "execution_count": null,
   "metadata": {},
   "outputs": [],
   "source": [
    "res_df = pd.DataFrame({'session_id': cust_df[cust_df['test_or_train_flag'] == 1].session_id, 'prob': pred[:, 1]})\n",
    "res_df.to_csv('res.csv', index=False)"
   ]
  },
  {
   "cell_type": "code",
   "execution_count": null,
   "metadata": {},
   "outputs": [],
   "source": []
  }
 ],
 "metadata": {
  "kernelspec": {
   "display_name": "Python 3",
   "language": "python",
   "name": "python3"
  },
  "language_info": {
   "codemirror_mode": {
    "name": "ipython",
    "version": 3
   },
   "file_extension": ".py",
   "mimetype": "text/x-python",
   "name": "python",
   "nbconvert_exporter": "python",
   "pygments_lexer": "ipython3",
   "version": "3.7.3"
  }
 },
 "nbformat": 4,
 "nbformat_minor": 1
}
