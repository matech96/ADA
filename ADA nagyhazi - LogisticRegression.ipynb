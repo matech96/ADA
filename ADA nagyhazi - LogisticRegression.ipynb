{
 "cells": [
  {
   "cell_type": "code",
   "execution_count": 1,
   "metadata": {
    "_cell_guid": "79c7e3d0-c299-4dcb-8224-4455121ee9b0",
    "_uuid": "d629ff2d2480ee46fbb7e2d37f6b5fab8052498a"
   },
   "outputs": [],
   "source": [
    "from sklearn.tree import DecisionTreeClassifier\n",
    "from sklearn.ensemble import *\n",
    "from sklearn.model_selection import cross_validate, GridSearchCV\n",
    "from sklearn.preprocessing import StandardScaler\n",
    "from sklearn.metrics import roc_auc_score, accuracy_score\n",
    "import matplotlib.pyplot as plt\n",
    "\n",
    "import pandas as pd\n",
    "import numpy as np\n",
    "\n",
    "from load_data import get_data"
   ]
  },
  {
   "cell_type": "code",
   "execution_count": 2,
   "metadata": {},
   "outputs": [
    {
     "name": "stderr",
     "output_type": "stream",
     "text": [
      "C:\\Users\\gango\\Projects\\ADA\\load_data.py:9: FutureWarning: Sorting because non-concatenation axis is not aligned. A future version\n",
      "of pandas will change to not sort by default.\n",
      "\n",
      "To accept the future behavior, pass 'sort=False'.\n",
      "\n",
      "To retain the current behavior and silence the warning, pass 'sort=True'.\n",
      "\n",
      "  alldf = pd.concat([train_df,test_df])\n"
     ]
    },
    {
     "name": "stdout",
     "output_type": "stream",
     "text": [
      "Training set size: (24584, 51)\n"
     ]
    }
   ],
   "source": [
    "x_train, y_train, x_pred = get_data()"
   ]
  },
  {
   "cell_type": "code",
   "execution_count": 3,
   "metadata": {},
   "outputs": [],
   "source": [
    "from sklearn.linear_model import LogisticRegression"
   ]
  },
  {
   "cell_type": "markdown",
   "metadata": {},
   "source": [
    "# L2"
   ]
  },
  {
   "cell_type": "code",
   "execution_count": 4,
   "metadata": {},
   "outputs": [
    {
     "name": "stderr",
     "output_type": "stream",
     "text": [
      "C:\\ProgramData\\Anaconda3\\lib\\site-packages\\sklearn\\linear_model\\_logistic.py:939: ConvergenceWarning: lbfgs failed to converge (status=1):\n",
      "STOP: TOTAL NO. of ITERATIONS REACHED LIMIT.\n",
      "\n",
      "Increase the number of iterations (max_iter) or scale the data as shown in:\n",
      "    https://scikit-learn.org/stable/modules/preprocessing.html.\n",
      "Please also refer to the documentation for alternative solver options:\n",
      "    https://scikit-learn.org/stable/modules/linear_model.html#logistic-regression\n",
      "  extra_warning_msg=_LOGISTIC_SOLVER_CONVERGENCE_MSG)\n"
     ]
    }
   ],
   "source": [
    "Cs = [10000, 1000, 100, 10, 1, 0.1, 0.01]\n",
    "param_grid = {'C': Cs}\n",
    "clf = GridSearchCV(LogisticRegression(),\n",
    "                   scoring='roc_auc',\n",
    "                   param_grid=param_grid, cv=5, n_jobs=4)\n",
    "res = clf.fit(x_train, y_train)"
   ]
  },
  {
   "cell_type": "code",
   "execution_count": 5,
   "metadata": {},
   "outputs": [
    {
     "data": {
      "image/png": "[encoded data removed]",
      "text/plain": [
       "<Figure size 432x288 with 1 Axes>"
      ]
     },
     "metadata": {
      "needs_background": "light"
     },
     "output_type": "display_data"
    },
    {
     "name": "stdout",
     "output_type": "stream",
     "text": [
      "Best auc: 0.8678360754997232\n",
      "Best params: {'C': 100}\n"
     ]
    }
   ],
   "source": [
    "plt.plot(Cs, clf.cv_results_['mean_test_score'])\n",
    "plt.xscale('log')\n",
    "plt.show()\n",
    "best_i = np.argmax(clf.cv_results_['mean_test_score'])\n",
    "print(f\"Best auc: {np.max(clf.cv_results_['mean_test_score'])}\")\n",
    "print(f\"Best params: {clf.cv_results_['params'][best_i]}\")"
   ]
  },
  {
   "cell_type": "markdown",
   "metadata": {},
   "source": [
    "# L1"
   ]
  },
  {
   "cell_type": "code",
   "execution_count": 6,
   "metadata": {},
   "outputs": [
    {
     "name": "stdout",
     "output_type": "stream",
     "text": [
      "Fitting 5 folds for each of 7 candidates, totalling 35 fits\n"
     ]
    },
    {
     "name": "stderr",
     "output_type": "stream",
     "text": [
      "[Parallel(n_jobs=4)]: Using backend LokyBackend with 4 concurrent workers.\n",
      "[Parallel(n_jobs=4)]: Done  17 tasks      | elapsed:   16.4s\n",
      "[Parallel(n_jobs=4)]: Done  35 out of  35 | elapsed:   27.9s finished\n",
      "C:\\ProgramData\\Anaconda3\\lib\\site-packages\\sklearn\\linear_model\\_sag.py:330: ConvergenceWarning: The max_iter was reached which means the coef_ did not converge\n",
      "  \"the coef_ did not converge\", ConvergenceWarning)\n"
     ]
    },
    {
     "data": {
      "image/png": "[encoded data removed]",
      "text/plain": [
       "<Figure size 432x288 with 1 Axes>"
      ]
     },
     "metadata": {
      "needs_background": "light"
     },
     "output_type": "display_data"
    },
    {
     "name": "stdout",
     "output_type": "stream",
     "text": [
      "Best auc: 0.8663328412040693\n",
      "Best params: {'C': 10000}\n"
     ]
    }
   ],
   "source": [
    "Cs = [10000, 1000, 100, 10, 1, 0.1, 0.01]\n",
    "param_grid = {'C': Cs}\n",
    "clf = GridSearchCV(LogisticRegression(penalty='l1', solver='saga'),\n",
    "                   scoring='roc_auc',\n",
    "                   verbose=4,\n",
    "                   param_grid=param_grid, cv=5, n_jobs=4)\n",
    "res = clf.fit(x_train, y_train)\n",
    "plt.plot(Cs, clf.cv_results_['mean_test_score'])\n",
    "plt.xscale('log')\n",
    "plt.show()\n",
    "best_i = np.argmax(clf.cv_results_['mean_test_score'])\n",
    "print(f\"Best auc: {np.max(clf.cv_results_['mean_test_score'])}\")\n",
    "print(f\"Best params: {clf.cv_results_['params'][best_i]}\")"
   ]
  },
  {
   "cell_type": "markdown",
   "metadata": {},
   "source": [
    "# Elastic"
   ]
  },
  {
   "cell_type": "code",
   "execution_count": 7,
   "metadata": {},
   "outputs": [
    {
     "name": "stdout",
     "output_type": "stream",
     "text": [
      "Fitting 5 folds for each of 11 candidates, totalling 55 fits\n"
     ]
    },
    {
     "name": "stderr",
     "output_type": "stream",
     "text": [
      "[Parallel(n_jobs=4)]: Using backend LokyBackend with 4 concurrent workers.\n",
      "[Parallel(n_jobs=4)]: Done  17 tasks      | elapsed:   15.1s\n",
      "[Parallel(n_jobs=4)]: Done  55 out of  55 | elapsed:   50.6s finished\n"
     ]
    },
    {
     "name": "stdout",
     "output_type": "stream",
     "text": [
      "Best auc: 0.8663354916214763\n",
      "Best params: {'l1_ratio': 0.2}\n"
     ]
    },
    {
     "name": "stderr",
     "output_type": "stream",
     "text": [
      "C:\\ProgramData\\Anaconda3\\lib\\site-packages\\sklearn\\linear_model\\_sag.py:330: ConvergenceWarning: The max_iter was reached which means the coef_ did not converge\n",
      "  \"the coef_ did not converge\", ConvergenceWarning)\n"
     ]
    }
   ],
   "source": [
    "l1_ratios = np.array(range(11)) / 10\n",
    "param_grid = {'l1_ratio': l1_ratios}\n",
    "clf = GridSearchCV(LogisticRegression(penalty='elasticnet', C=100, solver='saga'),                   \n",
    "                   scoring='roc_auc',\n",
    "                   verbose=4,\n",
    "                   param_grid=param_grid, cv=5, n_jobs=4)\n",
    "res = clf.fit(x_train, y_train)\n",
    "# plt.plot(Cs, clf.cv_results_['mean_test_score'])\n",
    "# plt.xscale('log')\n",
    "# plt.show()\n",
    "best_i = np.argmax(clf.cv_results_['mean_test_score'])\n",
    "print(f\"Best auc: {np.max(clf.cv_results_['mean_test_score'])}\")\n",
    "print(f\"Best params: {clf.cv_results_['params'][best_i]}\")"
   ]
  },
  {
   "cell_type": "code",
   "execution_count": 8,
   "metadata": {},
   "outputs": [
    {
     "data": {
      "image/png": "[encoded data removed]",
      "text/plain": [
       "<Figure size 432x288 with 1 Axes>"
      ]
     },
     "metadata": {
      "needs_background": "light"
     },
     "output_type": "display_data"
    },
    {
     "data": {
      "text/plain": [
       "(0.8663286993878657, 0.8663354916214763)"
      ]
     },
     "execution_count": 8,
     "metadata": {},
     "output_type": "execute_result"
    }
   ],
   "source": [
    "plt.plot(l1_ratios,clf.cv_results_['mean_test_score'])\n",
    "plt.show()\n",
    "clf.cv_results_['mean_test_score'].min(), clf.cv_results_['mean_test_score'].max()"
   ]
  },
  {
   "cell_type": "markdown",
   "metadata": {},
   "source": [
    "# Polinomyal features"
   ]
  },
  {
   "cell_type": "code",
   "execution_count": 9,
   "metadata": {},
   "outputs": [],
   "source": [
    "from sklearn.preprocessing import PolynomialFeatures"
   ]
  },
  {
   "cell_type": "code",
   "execution_count": 10,
   "metadata": {},
   "outputs": [],
   "source": [
    "def train_model(n):\n",
    "    model = LogisticRegression()\n",
    "    poly = PolynomialFeatures(n)\n",
    "    cv_results = cross_validate(model,\n",
    "                                poly.fit_transform(x_train), y_train,\n",
    "                                scoring=['roc_auc'], cv=5, n_jobs=4)\n",
    "    auc = cv_results['test_roc_auc'].mean()\n",
    "    print(f\"{n}: {auc}\")\n",
    "    return auc"
   ]
  },
  {
   "cell_type": "code",
   "execution_count": 11,
   "metadata": {},
   "outputs": [
    {
     "name": "stdout",
     "output_type": "stream",
     "text": [
      "1: 0.8677664314911503\n",
      "2: 0.8649746552551661\n",
      "Wall time: 14.7 s\n"
     ]
    }
   ],
   "source": [
    "%%time\n",
    "ns = [1, 2]\n",
    "poly_res = {n: train_model(n) for n in ns}"
   ]
  },
  {
   "cell_type": "code",
   "execution_count": null,
   "metadata": {},
   "outputs": [],
   "source": []
  }
 ],
 "metadata": {
  "kernelspec": {
   "display_name": "Python 3",
   "language": "python",
   "name": "python3"
  },
  "language_info": {
   "codemirror_mode": {
    "name": "ipython",
    "version": 3
   },
   "file_extension": ".py",
   "mimetype": "text/x-python",
   "name": "python",
   "nbconvert_exporter": "python",
   "pygments_lexer": "ipython3",
   "version": "3.7.3"
  }
 },
 "nbformat": 4,
 "nbformat_minor": 1
}
