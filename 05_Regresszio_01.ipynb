{
 "cells": [
  {
   "cell_type": "markdown",
   "metadata": {},
   "source": [
    "Exploratory data analysis"
   ]
  },
  {
   "cell_type": "code",
   "execution_count": 16,
   "metadata": {},
   "outputs": [],
   "source": [
    "import pandas as pd\n",
    "import numpy as np\n",
    "import matplotlib.pyplot as plt\n",
    "from sklearn.model_selection import train_test_split\n",
    "from sklearn import linear_model"
   ]
  },
  {
   "cell_type": "code",
   "execution_count": 2,
   "metadata": {},
   "outputs": [],
   "source": [
    "df = pd.read_csv('data/DataSet_Lakas_Regression.csv')"
   ]
  },
  {
   "cell_type": "code",
   "execution_count": 3,
   "metadata": {},
   "outputs": [
    {
     "data": {
      "text/html": [
       "<div>\n",
       "<style scoped>\n",
       "    .dataframe tbody tr th:only-of-type {\n",
       "        vertical-align: middle;\n",
       "    }\n",
       "\n",
       "    .dataframe tbody tr th {\n",
       "        vertical-align: top;\n",
       "    }\n",
       "\n",
       "    .dataframe thead th {\n",
       "        text-align: right;\n",
       "    }\n",
       "</style>\n",
       "<table border=\"1\" class=\"dataframe\">\n",
       "  <thead>\n",
       "    <tr style=\"text-align: right;\">\n",
       "      <th></th>\n",
       "      <th>county</th>\n",
       "      <th>city</th>\n",
       "      <th>postcode</th>\n",
       "      <th>property_type</th>\n",
       "      <th>property_subtype</th>\n",
       "      <th>property_condition_type</th>\n",
       "      <th>property_floor</th>\n",
       "      <th>building_floor_count</th>\n",
       "      <th>view_type</th>\n",
       "      <th>orientation</th>\n",
       "      <th>...</th>\n",
       "      <th>elevator_type</th>\n",
       "      <th>room_cnt</th>\n",
       "      <th>small_room_cnt</th>\n",
       "      <th>created_at</th>\n",
       "      <th>property_area</th>\n",
       "      <th>balcony_area</th>\n",
       "      <th>price_created_at</th>\n",
       "      <th>ad_view_cnt</th>\n",
       "      <th>active_days</th>\n",
       "      <th>nr</th>\n",
       "    </tr>\n",
       "  </thead>\n",
       "  <tbody>\n",
       "    <tr>\n",
       "      <th>0</th>\n",
       "      <td>Budapest</td>\n",
       "      <td>Budapest XII.</td>\n",
       "      <td>NaN</td>\n",
       "      <td>flat</td>\n",
       "      <td>brick flat (for sale)</td>\n",
       "      <td>good</td>\n",
       "      <td>1</td>\n",
       "      <td>NaN</td>\n",
       "      <td>street view</td>\n",
       "      <td>NaN</td>\n",
       "      <td>...</td>\n",
       "      <td>yes</td>\n",
       "      <td>2.0</td>\n",
       "      <td>1.0</td>\n",
       "      <td>2015-02-09</td>\n",
       "      <td>65.0</td>\n",
       "      <td>0.0</td>\n",
       "      <td>23.5</td>\n",
       "      <td>605.0</td>\n",
       "      <td>119.0</td>\n",
       "      <td>4</td>\n",
       "    </tr>\n",
       "    <tr>\n",
       "      <th>1</th>\n",
       "      <td>Budapest</td>\n",
       "      <td>Budapest I.</td>\n",
       "      <td>1016.0</td>\n",
       "      <td>flat</td>\n",
       "      <td>brick flat (for sale)</td>\n",
       "      <td>novel</td>\n",
       "      <td>2</td>\n",
       "      <td>NaN</td>\n",
       "      <td>street view</td>\n",
       "      <td>NaN</td>\n",
       "      <td>...</td>\n",
       "      <td>yes</td>\n",
       "      <td>1.0</td>\n",
       "      <td>1.0</td>\n",
       "      <td>2015-02-09</td>\n",
       "      <td>45.0</td>\n",
       "      <td>0.0</td>\n",
       "      <td>20.0</td>\n",
       "      <td>49.0</td>\n",
       "      <td>25.0</td>\n",
       "      <td>12</td>\n",
       "    </tr>\n",
       "    <tr>\n",
       "      <th>2</th>\n",
       "      <td>Budapest</td>\n",
       "      <td>Budapest XVI.</td>\n",
       "      <td>1164.0</td>\n",
       "      <td>flat</td>\n",
       "      <td>brick flat (for sale)</td>\n",
       "      <td>novel</td>\n",
       "      <td>1</td>\n",
       "      <td>NaN</td>\n",
       "      <td>garden view</td>\n",
       "      <td>NaN</td>\n",
       "      <td>...</td>\n",
       "      <td>yes</td>\n",
       "      <td>2.0</td>\n",
       "      <td>1.0</td>\n",
       "      <td>2015-02-09</td>\n",
       "      <td>60.0</td>\n",
       "      <td>0.0</td>\n",
       "      <td>22.0</td>\n",
       "      <td>77.0</td>\n",
       "      <td>77.0</td>\n",
       "      <td>14</td>\n",
       "    </tr>\n",
       "    <tr>\n",
       "      <th>3</th>\n",
       "      <td>Budapest</td>\n",
       "      <td>Budapest X.</td>\n",
       "      <td>NaN</td>\n",
       "      <td>flat</td>\n",
       "      <td>brick flat (for sale)</td>\n",
       "      <td>good</td>\n",
       "      <td>4</td>\n",
       "      <td>NaN</td>\n",
       "      <td>garden view</td>\n",
       "      <td>NaN</td>\n",
       "      <td>...</td>\n",
       "      <td>none</td>\n",
       "      <td>2.0</td>\n",
       "      <td>0.0</td>\n",
       "      <td>2015-02-09</td>\n",
       "      <td>55.0</td>\n",
       "      <td>4.0</td>\n",
       "      <td>11.0</td>\n",
       "      <td>139.0</td>\n",
       "      <td>18.0</td>\n",
       "      <td>21</td>\n",
       "    </tr>\n",
       "    <tr>\n",
       "      <th>4</th>\n",
       "      <td>Budapest</td>\n",
       "      <td>Budapest XVIII.</td>\n",
       "      <td>1181.0</td>\n",
       "      <td>flat</td>\n",
       "      <td>prefabricated panel flat (for sale)</td>\n",
       "      <td>renewed</td>\n",
       "      <td>6</td>\n",
       "      <td>NaN</td>\n",
       "      <td>NaN</td>\n",
       "      <td>NaN</td>\n",
       "      <td>...</td>\n",
       "      <td>yes</td>\n",
       "      <td>2.0</td>\n",
       "      <td>1.0</td>\n",
       "      <td>2015-02-09</td>\n",
       "      <td>60.0</td>\n",
       "      <td>3.0</td>\n",
       "      <td>10.2</td>\n",
       "      <td>176.0</td>\n",
       "      <td>69.0</td>\n",
       "      <td>31</td>\n",
       "    </tr>\n",
       "  </tbody>\n",
       "</table>\n",
       "<p>5 rows × 22 columns</p>\n",
       "</div>"
      ],
      "text/plain": [
       "     county             city  postcode property_type  \\\n",
       "0  Budapest    Budapest XII.       NaN          flat   \n",
       "1  Budapest      Budapest I.    1016.0          flat   \n",
       "2  Budapest    Budapest XVI.    1164.0          flat   \n",
       "3  Budapest      Budapest X.       NaN          flat   \n",
       "4  Budapest  Budapest XVIII.    1181.0          flat   \n",
       "\n",
       "                      property_subtype property_condition_type property_floor  \\\n",
       "0                brick flat (for sale)                    good              1   \n",
       "1                brick flat (for sale)                   novel              2   \n",
       "2                brick flat (for sale)                   novel              1   \n",
       "3                brick flat (for sale)                    good              4   \n",
       "4  prefabricated panel flat (for sale)                 renewed              6   \n",
       "\n",
       "  building_floor_count    view_type orientation  ... elevator_type room_cnt  \\\n",
       "0                  NaN  street view         NaN  ...           yes      2.0   \n",
       "1                  NaN  street view         NaN  ...           yes      1.0   \n",
       "2                  NaN  garden view         NaN  ...           yes      2.0   \n",
       "3                  NaN  garden view         NaN  ...          none      2.0   \n",
       "4                  NaN          NaN         NaN  ...           yes      2.0   \n",
       "\n",
       "  small_room_cnt  created_at  property_area balcony_area  price_created_at  \\\n",
       "0            1.0  2015-02-09           65.0          0.0              23.5   \n",
       "1            1.0  2015-02-09           45.0          0.0              20.0   \n",
       "2            1.0  2015-02-09           60.0          0.0              22.0   \n",
       "3            0.0  2015-02-09           55.0          4.0              11.0   \n",
       "4            1.0  2015-02-09           60.0          3.0              10.2   \n",
       "\n",
       "   ad_view_cnt  active_days  nr  \n",
       "0        605.0        119.0   4  \n",
       "1         49.0         25.0  12  \n",
       "2         77.0         77.0  14  \n",
       "3        139.0         18.0  21  \n",
       "4        176.0         69.0  31  \n",
       "\n",
       "[5 rows x 22 columns]"
      ]
     },
     "execution_count": 3,
     "metadata": {},
     "output_type": "execute_result"
    }
   ],
   "source": [
    "df.head()"
   ]
  },
  {
   "cell_type": "code",
   "execution_count": 4,
   "metadata": {},
   "outputs": [
    {
     "data": {
      "text/plain": [
       "county                      object\n",
       "city                        object\n",
       "postcode                   float64\n",
       "property_type               object\n",
       "property_subtype            object\n",
       "property_condition_type     object\n",
       "property_floor              object\n",
       "building_floor_count        object\n",
       "view_type                   object\n",
       "orientation                 object\n",
       "garden_access               object\n",
       "heating_type                object\n",
       "elevator_type               object\n",
       "room_cnt                   float64\n",
       "small_room_cnt             float64\n",
       "created_at                  object\n",
       "property_area              float64\n",
       "balcony_area               float64\n",
       "price_created_at           float64\n",
       "ad_view_cnt                float64\n",
       "active_days                float64\n",
       "nr                           int64\n",
       "dtype: object"
      ]
     },
     "execution_count": 4,
     "metadata": {},
     "output_type": "execute_result"
    }
   ],
   "source": [
    "df.dtypes"
   ]
  },
  {
   "cell_type": "code",
   "execution_count": 5,
   "metadata": {},
   "outputs": [
    {
     "data": {
      "text/plain": [
       "array(['tile stove (gas)', 'konvection gas burner',\n",
       "       'central heating with own meter', 'central heating', nan,\n",
       "       'district heating', 'gas furnace, circulating hot water',\n",
       "       'electric', 'other', 'fan-coil', 'gas furnace'], dtype=object)"
      ]
     },
     "execution_count": 5,
     "metadata": {},
     "output_type": "execute_result"
    }
   ],
   "source": [
    "df.heating_type.unique()"
   ]
  },
  {
   "cell_type": "code",
   "execution_count": 6,
   "metadata": {},
   "outputs": [
    {
     "data": {
      "image/png": "[encoded data removed]",
      "text/plain": [
       "<Figure size 432x288 with 1 Axes>"
      ]
     },
     "metadata": {
      "needs_background": "light"
     },
     "output_type": "display_data"
    }
   ],
   "source": [
    "sampled_df = df.sample(100)\n",
    "plt.scatter(sampled_df.price_created_at, sampled_df.property_area)\n",
    "plt.show()"
   ]
  },
  {
   "cell_type": "code",
   "execution_count": 7,
   "metadata": {},
   "outputs": [
    {
     "data": {
      "image/png": "[encoded data removed]",
      "text/plain": [
       "<Figure size 432x288 with 1 Axes>"
      ]
     },
     "metadata": {
      "needs_background": "light"
     },
     "output_type": "display_data"
    }
   ],
   "source": [
    "plt.hist(df.property_area)\n",
    "plt.show()"
   ]
  },
  {
   "cell_type": "code",
   "execution_count": 8,
   "metadata": {},
   "outputs": [
    {
     "data": {
      "image/png": "[encoded data removed]",
      "text/plain": [
       "<Figure size 432x288 with 1 Axes>"
      ]
     },
     "metadata": {
      "needs_background": "light"
     },
     "output_type": "display_data"
    }
   ],
   "source": [
    "plt.hist(df.price_created_at)\n",
    "plt.show()"
   ]
  },
  {
   "cell_type": "code",
   "execution_count": 9,
   "metadata": {},
   "outputs": [
    {
     "data": {
      "text/html": [
       "<div>\n",
       "<style scoped>\n",
       "    .dataframe tbody tr th:only-of-type {\n",
       "        vertical-align: middle;\n",
       "    }\n",
       "\n",
       "    .dataframe tbody tr th {\n",
       "        vertical-align: top;\n",
       "    }\n",
       "\n",
       "    .dataframe thead th {\n",
       "        text-align: right;\n",
       "    }\n",
       "</style>\n",
       "<table border=\"1\" class=\"dataframe\">\n",
       "  <thead>\n",
       "    <tr style=\"text-align: right;\">\n",
       "      <th></th>\n",
       "      <th>postcode</th>\n",
       "      <th>room_cnt</th>\n",
       "      <th>small_room_cnt</th>\n",
       "      <th>property_area</th>\n",
       "      <th>balcony_area</th>\n",
       "      <th>price_created_at</th>\n",
       "      <th>ad_view_cnt</th>\n",
       "      <th>active_days</th>\n",
       "      <th>nr</th>\n",
       "    </tr>\n",
       "  </thead>\n",
       "  <tbody>\n",
       "    <tr>\n",
       "      <th>count</th>\n",
       "      <td>49672.000000</td>\n",
       "      <td>78670.000000</td>\n",
       "      <td>78417.000000</td>\n",
       "      <td>78670.000000</td>\n",
       "      <td>75467.000000</td>\n",
       "      <td>78670.000000</td>\n",
       "      <td>78670.000000</td>\n",
       "      <td>78670.000000</td>\n",
       "      <td>78670.000000</td>\n",
       "    </tr>\n",
       "    <tr>\n",
       "      <th>mean</th>\n",
       "      <td>1103.331354</td>\n",
       "      <td>1.474171</td>\n",
       "      <td>0.550901</td>\n",
       "      <td>48.412737</td>\n",
       "      <td>2.095207</td>\n",
       "      <td>20.054013</td>\n",
       "      <td>259.633202</td>\n",
       "      <td>44.172200</td>\n",
       "      <td>196349.123503</td>\n",
       "    </tr>\n",
       "    <tr>\n",
       "      <th>std</th>\n",
       "      <td>50.785029</td>\n",
       "      <td>0.768812</td>\n",
       "      <td>0.781998</td>\n",
       "      <td>12.771252</td>\n",
       "      <td>7.026138</td>\n",
       "      <td>107.135384</td>\n",
       "      <td>512.387061</td>\n",
       "      <td>47.832548</td>\n",
       "      <td>113305.500226</td>\n",
       "    </tr>\n",
       "    <tr>\n",
       "      <th>min</th>\n",
       "      <td>1011.000000</td>\n",
       "      <td>0.000000</td>\n",
       "      <td>0.000000</td>\n",
       "      <td>0.000000</td>\n",
       "      <td>0.000000</td>\n",
       "      <td>0.000000</td>\n",
       "      <td>0.000000</td>\n",
       "      <td>1.000000</td>\n",
       "      <td>4.000000</td>\n",
       "    </tr>\n",
       "    <tr>\n",
       "      <th>25%</th>\n",
       "      <td>1064.000000</td>\n",
       "      <td>1.000000</td>\n",
       "      <td>0.000000</td>\n",
       "      <td>40.000000</td>\n",
       "      <td>0.000000</td>\n",
       "      <td>13.200000</td>\n",
       "      <td>42.000000</td>\n",
       "      <td>11.000000</td>\n",
       "      <td>97977.500000</td>\n",
       "    </tr>\n",
       "    <tr>\n",
       "      <th>50%</th>\n",
       "      <td>1101.000000</td>\n",
       "      <td>1.000000</td>\n",
       "      <td>0.000000</td>\n",
       "      <td>50.000000</td>\n",
       "      <td>0.000000</td>\n",
       "      <td>16.900000</td>\n",
       "      <td>103.000000</td>\n",
       "      <td>28.000000</td>\n",
       "      <td>196125.500000</td>\n",
       "    </tr>\n",
       "    <tr>\n",
       "      <th>75%</th>\n",
       "      <td>1142.000000</td>\n",
       "      <td>2.000000</td>\n",
       "      <td>1.000000</td>\n",
       "      <td>60.000000</td>\n",
       "      <td>3.000000</td>\n",
       "      <td>23.900000</td>\n",
       "      <td>263.000000</td>\n",
       "      <td>61.000000</td>\n",
       "      <td>294507.500000</td>\n",
       "    </tr>\n",
       "    <tr>\n",
       "      <th>max</th>\n",
       "      <td>1239.000000</td>\n",
       "      <td>68.000000</td>\n",
       "      <td>73.000000</td>\n",
       "      <td>70.000000</td>\n",
       "      <td>1115.000000</td>\n",
       "      <td>22500.000000</td>\n",
       "      <td>28096.000000</td>\n",
       "      <td>537.000000</td>\n",
       "      <td>394181.000000</td>\n",
       "    </tr>\n",
       "  </tbody>\n",
       "</table>\n",
       "</div>"
      ],
      "text/plain": [
       "           postcode      room_cnt  small_room_cnt  property_area  \\\n",
       "count  49672.000000  78670.000000    78417.000000   78670.000000   \n",
       "mean    1103.331354      1.474171        0.550901      48.412737   \n",
       "std       50.785029      0.768812        0.781998      12.771252   \n",
       "min     1011.000000      0.000000        0.000000       0.000000   \n",
       "25%     1064.000000      1.000000        0.000000      40.000000   \n",
       "50%     1101.000000      1.000000        0.000000      50.000000   \n",
       "75%     1142.000000      2.000000        1.000000      60.000000   \n",
       "max     1239.000000     68.000000       73.000000      70.000000   \n",
       "\n",
       "       balcony_area  price_created_at   ad_view_cnt   active_days  \\\n",
       "count  75467.000000      78670.000000  78670.000000  78670.000000   \n",
       "mean       2.095207         20.054013    259.633202     44.172200   \n",
       "std        7.026138        107.135384    512.387061     47.832548   \n",
       "min        0.000000          0.000000      0.000000      1.000000   \n",
       "25%        0.000000         13.200000     42.000000     11.000000   \n",
       "50%        0.000000         16.900000    103.000000     28.000000   \n",
       "75%        3.000000         23.900000    263.000000     61.000000   \n",
       "max     1115.000000      22500.000000  28096.000000    537.000000   \n",
       "\n",
       "                  nr  \n",
       "count   78670.000000  \n",
       "mean   196349.123503  \n",
       "std    113305.500226  \n",
       "min         4.000000  \n",
       "25%     97977.500000  \n",
       "50%    196125.500000  \n",
       "75%    294507.500000  \n",
       "max    394181.000000  "
      ]
     },
     "execution_count": 9,
     "metadata": {},
     "output_type": "execute_result"
    }
   ],
   "source": [
    "df.describe()"
   ]
  },
  {
   "cell_type": "markdown",
   "metadata": {},
   "source": [
    "Data cleaning"
   ]
  },
  {
   "cell_type": "code",
   "execution_count": 10,
   "metadata": {},
   "outputs": [
    {
     "name": "stdout",
     "output_type": "stream",
     "text": [
      "78670\n",
      "78657\n",
      "78440\n",
      "property_area\n",
      "78440\n",
      "78213\n",
      "78213\n"
     ]
    }
   ],
   "source": [
    "print(len(df))\n",
    "condition = df.price_created_at <= 150\n",
    "df = df[condition]\n",
    "print(len(df))\n",
    "condition = df.price_created_at >= 5\n",
    "df = df[condition]\n",
    "print(len(df))\n",
    "\n",
    "print('property_area')\n",
    "\n",
    "print(len(df))\n",
    "condition = df.property_area >= 20\n",
    "df = df[condition]\n",
    "print(len(df))\n",
    "condition = df.property_area <= 70\n",
    "df = df[condition]\n",
    "print(len(df))"
   ]
  },
  {
   "cell_type": "code",
   "execution_count": 11,
   "metadata": {},
   "outputs": [
    {
     "data": {
      "image/png": "[encoded data removed]",
      "text/plain": [
       "<Figure size 432x288 with 1 Axes>"
      ]
     },
     "metadata": {
      "needs_background": "light"
     },
     "output_type": "display_data"
    }
   ],
   "source": [
    "plt.hist(df.price_created_at)\n",
    "plt.show()"
   ]
  },
  {
   "cell_type": "code",
   "execution_count": 65,
   "metadata": {},
   "outputs": [],
   "source": [
    "target_v = ['price_created_at']\n",
    "input_v = ['property_area', 'balcony_area', 'active_days', 'room_cnt', 'small_room_cnt']\n",
    "x = df[input_v].fillna(0).values\n",
    "y = df[target_v].values"
   ]
  },
  {
   "cell_type": "code",
   "execution_count": 66,
   "metadata": {},
   "outputs": [],
   "source": [
    "x_train, x_test, y_train, y_test = train_test_split(x, y, test_size=0.15)\n",
    "x_train, x_val, y_train, y_val = train_test_split(x_train, y_train, test_size=0.1275)"
   ]
  },
  {
   "cell_type": "code",
   "execution_count": 67,
   "metadata": {},
   "outputs": [
    {
     "name": "stdout",
     "output_type": "stream",
     "text": [
      "y = 0.31693320732071295 * x + 3.6580146544190377\n"
     ]
    }
   ],
   "source": [
    "model = linear_model.LinearRegression()\n",
    "model.fit(x_train, y_train)\n",
    "coef = model.coef_[0][0]\n",
    "intercept = model.intercept_[0]\n",
    "print(f'y = {coef} * x + {intercept}')"
   ]
  },
  {
   "cell_type": "markdown",
   "metadata": {},
   "source": [
    "Model evaluation"
   ]
  },
  {
   "cell_type": "code",
   "execution_count": 68,
   "metadata": {},
   "outputs": [],
   "source": [
    "y_val_ = model.predict(x_val)"
   ]
  },
  {
   "cell_type": "code",
   "execution_count": 69,
   "metadata": {},
   "outputs": [
    {
     "data": {
      "text/plain": [
       "0.3254722986892493"
      ]
     },
     "execution_count": 69,
     "metadata": {},
     "output_type": "execute_result"
    }
   ],
   "source": [
    "np.mean(np.abs((y_val - y_val_) / y_val))"
   ]
  },
  {
   "cell_type": "code",
   "execution_count": 70,
   "metadata": {},
   "outputs": [
    {
     "data": {
      "text/plain": [
       "0.22090063048838074"
      ]
     },
     "execution_count": 70,
     "metadata": {},
     "output_type": "execute_result"
    }
   ],
   "source": [
    "model.score(x_val, y_val)"
   ]
  },
  {
   "cell_type": "code",
   "execution_count": 35,
   "metadata": {},
   "outputs": [
    {
     "data": {
      "image/png": "[encoded data removed]",
      "text/plain": [
       "<Figure size 432x288 with 1 Axes>"
      ]
     },
     "metadata": {
      "needs_background": "light"
     },
     "output_type": "display_data"
    }
   ],
   "source": [
    "plt.scatter(x_val, y_val)\n",
    "plt.plot(x_val, y_val_, color='Red')\n",
    "plt.show()"
   ]
  },
  {
   "cell_type": "code",
   "execution_count": null,
   "metadata": {},
   "outputs": [],
   "source": []
  }
 ],
 "metadata": {
  "kernelspec": {
   "display_name": "Python 3",
   "language": "python",
   "name": "python3"
  },
  "language_info": {
   "codemirror_mode": {
    "name": "ipython",
    "version": 3
   },
   "file_extension": ".py",
   "mimetype": "text/x-python",
   "name": "python",
   "nbconvert_exporter": "python",
   "pygments_lexer": "ipython3",
   "version": "3.7.1"
  }
 },
 "nbformat": 4,
 "nbformat_minor": 2
}
