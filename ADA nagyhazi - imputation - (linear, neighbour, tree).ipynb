{
 "cells": [
  {
   "cell_type": "code",
   "execution_count": 1,
   "metadata": {
    "_cell_guid": "79c7e3d0-c299-4dcb-8224-4455121ee9b0",
    "_uuid": "d629ff2d2480ee46fbb7e2d37f6b5fab8052498a"
   },
   "outputs": [],
   "source": [
    "from sklearn.tree import DecisionTreeClassifier\n",
    "from sklearn.ensemble import *\n",
    "from sklearn.model_selection import cross_validate, GridSearchCV\n",
    "from sklearn.preprocessing import StandardScaler\n",
    "from sklearn.metrics import roc_auc_score, accuracy_score\n",
    "import matplotlib.pyplot as plt\n",
    "\n",
    "import pandas as pd\n",
    "import numpy as np\n",
    "\n",
    "from load_data import *"
   ]
  },
  {
   "cell_type": "code",
   "execution_count": 2,
   "metadata": {},
   "outputs": [
    {
     "name": "stderr",
     "output_type": "stream",
     "text": [
      "C:\\Users\\gango\\Projects\\ADA\\load_data.py:14: FutureWarning: Sorting because non-concatenation axis is not aligned. A future version\n",
      "of pandas will change to not sort by default.\n",
      "\n",
      "To accept the future behavior, pass 'sort=False'.\n",
      "\n",
      "To retain the current behavior and silence the warning, pass 'sort=True'.\n",
      "\n",
      "  alldf = pd.concat([train_df,test_df])\n"
     ]
    }
   ],
   "source": [
    "alldf = get_df()    \n",
    "# alldf = alldf.fillna(-1)\n",
    "# x_train, y_train, x_pred = dg2data(alldf)"
   ]
  },
  {
   "cell_type": "code",
   "execution_count": 3,
   "metadata": {},
   "outputs": [],
   "source": [
    "from sklearn.impute import *"
   ]
  },
  {
   "cell_type": "code",
   "execution_count": 4,
   "metadata": {},
   "outputs": [
    {
     "data": {
      "text/plain": [
       "array([[  1.        ,   1.        ,  44.76755438, ...,  49.99      ,\n",
       "         49.99      ,   1.        ],\n",
       "       [  1.        ,   1.        ,  44.76755438, ...,  49.99      ,\n",
       "         49.99      ,   1.        ],\n",
       "       [  1.        ,   1.        ,  44.76755438, ...,  49.99      ,\n",
       "         49.99      ,   1.        ],\n",
       "       ...,\n",
       "       [  3.        ,  14.        ,  40.        , ...,  35.97      ,\n",
       "        107.91      ,   0.        ],\n",
       "       [  3.        ,  14.        ,  40.        , ...,  35.97      ,\n",
       "        107.91      ,   0.        ],\n",
       "       [  3.        ,  14.        ,  40.        , ...,  35.97      ,\n",
       "        107.91      ,   0.        ]])"
      ]
     },
     "execution_count": 4,
     "metadata": {},
     "output_type": "execute_result"
    }
   ],
   "source": [
    "imp_columns = ['basket_element_number', 'click_num',\n",
    "       'customer_age', 'customer_value', 'duration_of_session',\n",
    "       'last_order_of_customer', 'level_of_purchasing_process',\n",
    "       'lifetime_customer_account', 'max_val',\n",
    "       'maximum_price_of_visited_products',\n",
    "       'minimum_price_of_visited_products', 'num_of_previous_payments',\n",
    "       'price_of_cheapest_product_in_basket',\n",
    "       'price_of_more_expensive_product_in_basket', 'regio_of_customer',\n",
    "       'start_date_of_session', 'start_time_of_session',\n",
    "       'sum_price_of_products_in_basket', 'sum_price_of_visited_products',\n",
    "       'test_or_train_flag']\n",
    "\n",
    "imp = SimpleImputer(missing_values=np.nan, strategy='mean')\n",
    "alldf[imp_columns] = imp.fit_transform(alldf[imp_columns])"
   ]
  },
  {
   "cell_type": "code",
   "execution_count": null,
   "metadata": {},
   "outputs": [],
   "source": [
    "train_df = pd.read_csv(\"data/public_train_trx.csv\")\n",
    "test_df = pd.read_csv(\"data/public_test_trx.csv\")\n",
    "alldf = pd.concat([train_df,test_df])\n",
    "alldf = alldf.sort_values(['session_id','duration_of_session','click_num'])\n",
    "alldf = alldf.reset_index(drop=True)\n",
    "alldf['start_date_of_session'] = pd.to_datetime(alldf['start_date_of_session']).astype(np.int64)\n",
    "alldf['start_time_of_session'] = pd.to_datetime(alldf['start_time_of_session']).astype(np.int64)\n",
    "target = 'TARGET_successful_purchase'\n",
    "\n",
    "alldf = alldf.fillna(-1)\n",
    "# aggregalando_valtozok = list(alldf.columns)\n",
    "# aggregalando_valtozok.remove('test_or_train_flag')\n",
    "# aggregalando_valtozok.remove(target)\n",
    "# aggregalando_valtozok.remove('session_id')\n",
    "\n",
    "# cust_df = alldf.groupby('session_id',as_index=False).agg({target:'min',\n",
    "#                                         'test_or_train_flag':'min'})\n",
    "# for aggregalos_modszer in ['min','max','mean']:\n",
    "#     task={}\n",
    "#     ujoszlonevek=[]\n",
    "#     for v in aggregalando_valtozok:\n",
    "#         task[v]=aggregalos_modszer\n",
    "#         ujoszlonevek.append(aggregalos_modszer+\"_\"+v)\n",
    "#     stat = alldf.groupby(['session_id'],as_index=False).agg(task)\n",
    "#     stat.columns=['session_id']+ujoszlonevek\n",
    "#     cust_df = cust_df.merge(stat,on='session_id',how='left')\n",
    "\n",
    "# bemeno_valtozok = list(cust_df.columns)[3:]\n",
    "# ismert_df = cust_df[ cust_df['test_or_train_flag']==0].copy()\n",
    "# x_train = ismert_df[bemeno_valtozok]\n",
    "# y_train = ismert_df[target]\n",
    "# x_pred = cust_df[cust_df['test_or_train_flag'] == 1][bemeno_valtozok]\n",
    "# scaler = StandardScaler()\n",
    "# x_train = scaler.fit_transform(x_train)\n",
    "# x_pred = scaler.transform(x_pred)\n",
    "# print(f\"Training set size: {x_train.shape}\")"
   ]
  },
  {
   "cell_type": "code",
   "execution_count": null,
   "metadata": {},
   "outputs": [],
   "source": [
    "pd.to_datetime(alldf['start_time_of_session']).astype(np.int64)"
   ]
  },
  {
   "cell_type": "code",
   "execution_count": null,
   "metadata": {},
   "outputs": [],
   "source": [
    "from sklearn.linear_model import LogisticRegression, RidgeClassifier, Lasso, ElasticNet, Lars, LassoLars, OrthogonalMatchingPursuit, BayesianRidge, SGDClassifier"
   ]
  },
  {
   "cell_type": "code",
   "execution_count": null,
   "metadata": {},
   "outputs": [],
   "source": [
    "def train_model(model):\n",
    "    cv_results = cross_validate(model,\n",
    "                                x_train, y_train,\n",
    "                                scoring=['roc_auc'], cv=5, n_jobs=4)\n",
    "    auc = cv_results['test_roc_auc'].mean()\n",
    "    print(f\"{type(model)}: {auc}\")\n",
    "    return auc"
   ]
  },
  {
   "cell_type": "code",
   "execution_count": null,
   "metadata": {},
   "outputs": [],
   "source": [
    "%%time\n",
    "models = [LogisticRegression(), RidgeClassifier(), Lasso(), ElasticNet(), Lars(), LassoLars(), OrthogonalMatchingPursuit(), BayesianRidge(), SGDClassifier()]\n",
    "linera_models_res = {type(model): train_model(model) for model in models}"
   ]
  },
  {
   "cell_type": "code",
   "execution_count": null,
   "metadata": {},
   "outputs": [],
   "source": [
    "from sklearn.neighbors import *"
   ]
  },
  {
   "cell_type": "code",
   "execution_count": null,
   "metadata": {},
   "outputs": [],
   "source": [
    "%%time\n",
    "models = [KNeighborsClassifier()]\n",
    "neighbor_models_res = {type(model): train_model(model) for model in models}"
   ]
  },
  {
   "cell_type": "code",
   "execution_count": null,
   "metadata": {},
   "outputs": [],
   "source": [
    "from sklearn.tree import *"
   ]
  },
  {
   "cell_type": "code",
   "execution_count": null,
   "metadata": {},
   "outputs": [],
   "source": [
    "%%time\n",
    "models = [DecisionTreeClassifier()]\n",
    "tree_models_res = {type(model): train_model(model) for model in models}"
   ]
  },
  {
   "cell_type": "code",
   "execution_count": null,
   "metadata": {},
   "outputs": [],
   "source": [
    "all_res = {}\n",
    "for res in [linera_models_res, neighbor_models_res, tree_models_res]:\n",
    "    all_res.update(res)"
   ]
  },
  {
   "cell_type": "code",
   "execution_count": null,
   "metadata": {},
   "outputs": [],
   "source": [
    "names = list(all_res.keys())\n",
    "aucs = list(all_res.values())\n",
    "\n",
    "pd.DataFrame({'name':names, 'auc': aucs}).to_csv('overview_auc.csv', index=False)"
   ]
  },
  {
   "cell_type": "code",
   "execution_count": null,
   "metadata": {},
   "outputs": [],
   "source": []
  },
  {
   "cell_type": "code",
   "execution_count": null,
   "metadata": {},
   "outputs": [],
   "source": []
  },
  {
   "cell_type": "code",
   "execution_count": null,
   "metadata": {},
   "outputs": [],
   "source": []
  },
  {
   "cell_type": "code",
   "execution_count": null,
   "metadata": {},
   "outputs": [],
   "source": []
  },
  {
   "cell_type": "code",
   "execution_count": null,
   "metadata": {},
   "outputs": [],
   "source": []
  },
  {
   "cell_type": "code",
   "execution_count": null,
   "metadata": {},
   "outputs": [],
   "source": []
  },
  {
   "cell_type": "code",
   "execution_count": null,
   "metadata": {},
   "outputs": [],
   "source": []
  },
  {
   "cell_type": "code",
   "execution_count": null,
   "metadata": {},
   "outputs": [],
   "source": [
    "param_grid = {'n_estimators': [10, 50, 100], 'max_depth': [14]}\n",
    "clf = GridSearchCV(RandomForestClassifier(),\n",
    "                   scoring='roc_auc',\n",
    "                   param_grid=param_grid, cv=5, n_jobs=4)\n",
    "\n",
    "print(clf.fit(x_train, y_train))"
   ]
  },
  {
   "cell_type": "code",
   "execution_count": null,
   "metadata": {},
   "outputs": [],
   "source": [
    "best_i = np.argmax(clf.cv_results_['mean_test_score'])\n",
    "print(f\"Best auc: {np.max(clf.cv_results_['mean_test_score'])}\")\n",
    "print(f\"Best params: {clf.cv_results_['params'][best_i]}\")"
   ]
  },
  {
   "cell_type": "code",
   "execution_count": null,
   "metadata": {},
   "outputs": [],
   "source": [
    "plt.imshow(clf.cv_results_['mean_test_score'])"
   ]
  },
  {
   "cell_type": "code",
   "execution_count": null,
   "metadata": {},
   "outputs": [],
   "source": [
    "clf.cv_results_['params']"
   ]
  },
  {
   "cell_type": "code",
   "execution_count": null,
   "metadata": {},
   "outputs": [],
   "source": [
    "pred = clf.predict_proba(x_train)[:, 1]\n",
    "roc_auc_score(y_train, pred)"
   ]
  },
  {
   "cell_type": "code",
   "execution_count": null,
   "metadata": {},
   "outputs": [],
   "source": [
    "y_train.to_numpy().astype(np.int).shape, pred.shape"
   ]
  },
  {
   "cell_type": "code",
   "execution_count": null,
   "metadata": {},
   "outputs": [],
   "source": [
    "# aucs = []\n",
    "# max_depths = []\n",
    "# for max_depth in range(2,16):\n",
    "#     cv_results = cross_validate(RandomForestClassifier(max_depth=max_depth),\n",
    "#                                 x_train, y_train,\n",
    "#                                 scoring=['roc_auc', 'accuracy'], cv=5)\n",
    "#     auc = cv_results['test_roc_auc'].mean()\n",
    "#     aucs.append(auc)\n",
    "#     max_depths.append(max_depth)\n",
    "#     print(f\"Fa melyseg: {max_depth}\\t{auc},\\t{cv_results['test_accuracy'].mean()}\")"
   ]
  },
  {
   "cell_type": "code",
   "execution_count": null,
   "metadata": {},
   "outputs": [],
   "source": [
    "cv_results = cross_validate(DecisionTreeClassifier(max_depth = 14),\n",
    "                            x_train, y_train,\n",
    "                            scoring=['roc_auc', 'accuracy'], cv=5, n_jobs=-1)\n",
    "auc = cv_results['test_roc_auc'].mean()\n",
    "print(f\"\\t{auc},\\t{cv_results['test_accuracy'].mean()}\")"
   ]
  },
  {
   "cell_type": "code",
   "execution_count": null,
   "metadata": {},
   "outputs": [],
   "source": [
    "# plt.plot(max_depths, aucs)\n",
    "# plt.show()\n",
    "# print(f\"Best max_depth: {max_depths[np.argmax(aucs)]}\")\n",
    "# print(f\"Best auc: {np.max(aucs)}\")"
   ]
  },
  {
   "cell_type": "code",
   "execution_count": null,
   "metadata": {},
   "outputs": [],
   "source": [
    "model = ExtraTreesClassifier(max_depth = 14, n_estimators = 1000)\n",
    "model.fit(x_train, y_train)\n",
    "pred = model.predict_proba(x_pred)\n",
    "# accuracy_score(ismert_df[target],model.predict(ismert_df[bemeno_valtozok]))"
   ]
  },
  {
   "cell_type": "code",
   "execution_count": null,
   "metadata": {},
   "outputs": [],
   "source": [
    "res_df = pd.DataFrame({'session_id': cust_df[cust_df['test_or_train_flag'] == 1].session_id, 'prob': pred[:, 1]})\n",
    "res_df.to_csv('res.csv', index=False)"
   ]
  },
  {
   "cell_type": "code",
   "execution_count": null,
   "metadata": {},
   "outputs": [],
   "source": []
  }
 ],
 "metadata": {
  "kernelspec": {
   "display_name": "Python 3",
   "language": "python",
   "name": "python3"
  },
  "language_info": {
   "codemirror_mode": {
    "name": "ipython",
    "version": 3
   },
   "file_extension": ".py",
   "mimetype": "text/x-python",
   "name": "python",
   "nbconvert_exporter": "python",
   "pygments_lexer": "ipython3",
   "version": "3.7.3"
  }
 },
 "nbformat": 4,
 "nbformat_minor": 1
}
