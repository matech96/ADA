{
 "cells": [
  {
   "cell_type": "code",
   "execution_count": 1,
   "metadata": {},
   "outputs": [],
   "source": [
    "import pandas as pd\n",
    "import numpy as np"
   ]
  },
  {
   "cell_type": "code",
   "execution_count": 2,
   "metadata": {},
   "outputs": [],
   "source": [
    "df = pd.read_csv('data/DataSet_Hitelbiralat.csv', sep=';')"
   ]
  },
  {
   "cell_type": "code",
   "execution_count": 5,
   "metadata": {},
   "outputs": [
    {
     "data": {
      "text/plain": [
       "ID_Client                                      int64\n",
       "ID_Shop                                        int64\n",
       "Sex                                           object\n",
       "Marital_Status                                object\n",
       "Age                                            int64\n",
       "QUANT_DEPENDANTS                               int64\n",
       "EDUCATION                                    float64\n",
       "FLAG_RESIDENCIAL_PHONE                        object\n",
       "AREA_CODE_RESIDENCIAL_PHONE                    int64\n",
       "PAYMENT_DAY                                    int64\n",
       "SHOP_RANK                                      int64\n",
       "RESIDENCE_TYPE                                object\n",
       "MONTHS_IN_RESIDENCE                            int64\n",
       "FLAG_MOTHERS_NAME                             object\n",
       "FLAG_FATHERS_NAME                             object\n",
       "FLAG_RESIDENCE_TOWN_WORKING_TOWN              object\n",
       "FLAG_RESIDENCE_STATE_WORKING_STATE            object\n",
       "MONTHS_IN_THE_JOB                              int64\n",
       "PROFESSION_CODE                                int64\n",
       "MATE_INCOME                                  float64\n",
       "FLAG_RESIDENCIAL_ADDRESS_POSTAL_ADDRESS       object\n",
       "FLAG_OTHER_CARD                               object\n",
       "QUANT_BANKING_ACCOUNTS                         int64\n",
       "PERSONAL_REFERENCE_1                          object\n",
       "PERSONAL_REFERENCE_2                          object\n",
       "FLAG_MOBILE_PHONE                             object\n",
       "FLAG_CONTACT_PHONE                            object\n",
       "PERSONAL_NET_INCOME                          float64\n",
       "COD_APPLICATION_BOOTH                          int64\n",
       "QUANT_ADDITIONAL_CARDS_IN_THE_APPLICATION      int64\n",
       "FLAG_CARD_INSURANCE_OPTION                    object\n",
       "TARGET_LABEL_BAD                               int64\n",
       "dtype: object"
      ]
     },
     "execution_count": 5,
     "metadata": {},
     "output_type": "execute_result"
    }
   ],
   "source": [
    "df.dtypes"
   ]
  }
 ],
 "metadata": {
  "kernelspec": {
   "display_name": "Python 3",
   "language": "python",
   "name": "python3"
  },
  "language_info": {
   "codemirror_mode": {
    "name": "ipython",
    "version": 3
   },
   "file_extension": ".py",
   "mimetype": "text/x-python",
   "name": "python",
   "nbconvert_exporter": "python",
   "pygments_lexer": "ipython3",
   "version": "3.7.3"
  }
 },
 "nbformat": 4,
 "nbformat_minor": 2
}
