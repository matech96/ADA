{
 "cells": [
  {
   "cell_type": "code",
   "execution_count": 7,
   "metadata": {},
   "outputs": [],
   "source": [
    "from sklearn.model_selection import train_test_split\n",
    "from sklearn.metrics import accuracy_score, roc_auc_score, precision_score, recall_score\n",
    "\n",
    "import pandas as pd\n",
    "from sklearn.linear_model import LinearRegression\n",
    "from sklearn.tree import DecisionTreeClassifier"
   ]
  },
  {
   "cell_type": "code",
   "execution_count": 8,
   "metadata": {},
   "outputs": [],
   "source": [
    "df = pd.read_csv('../data/DataSet_Hitelbiralat_preprocessed.csv')"
   ]
  },
  {
   "cell_type": "code",
   "execution_count": 15,
   "metadata": {},
   "outputs": [],
   "source": [
    "def rounding_score_decorator(score):\n",
    "    return lambda y_true, y_pred: score(y_true, y_pred > 0.5)\n",
    "\n",
    "def text2score(optimalization):\n",
    "    if optimalization == 'AUC':\n",
    "        score = roc_auc_score\n",
    "    elif optimalization == 'Precision':\n",
    "        score = rounding_score_decorator(precision_score)\n",
    "    elif optimalization == 'Recall':\n",
    "        score = rounding_score_decorator(recall_score)\n",
    "    elif optimalization == 'Accuracy':\n",
    "        score = rounding_score_decorator(accuracy_score)\n",
    "    return score\n",
    "\n",
    "def modell_evaluator(data, input_attributes, target_attribute, model, optimalization):\n",
    "    score = text2score(optimalization)\n",
    "    \n",
    "    split_idx = len(df) // 2\n",
    "    data_train = data[:split_idx]\n",
    "    data_test = data[split_idx:]\n",
    "    def test_attributes(fix_input, possible_inputs):\n",
    "        best_score = -1\n",
    "        best_input = None\n",
    "        for possible_input in possible_inputs:\n",
    "            model.fit(data_train[fix_input + [possible_input]], data_train[target_attribute])\n",
    "            predicted = model.predict_proba(data_test[fix_input + [possible_input]])[:, 1]\n",
    "            s = score(data_test[target_attribute], predicted)\n",
    "            if s > best_score:\n",
    "                best_score = s\n",
    "                best_input = possible_input\n",
    "        return best_input, best_score\n",
    "    good_inputs = []\n",
    "    in_race_inputs = input_attributes\n",
    "    best_s = -1\n",
    "    while len(in_race_inputs):\n",
    "        i_to_accept, s = test_attributes(good_inputs, input_attributes)\n",
    "        print(i_to_accept)\n",
    "        if s < best_s:\n",
    "            return best_s, good_inputs\n",
    "        \n",
    "        best_s = s\n",
    "        good_inputs.append(i_to_accept)\n",
    "        in_race_inputs.remove(i_to_accept)\n",
    "    return best_s, good_inputs"
   ]
  },
  {
   "cell_type": "code",
   "execution_count": 16,
   "metadata": {},
   "outputs": [
    {
     "name": "stdout",
     "output_type": "stream",
     "text": [
      "Age\n",
      "AREA_CODE_RESIDENCIAL_PHONE\n",
      "Sex\n",
      "SHOP_RANK\n",
      "MATE_INCOME\n"
     ]
    },
    {
     "data": {
      "text/plain": [
       "(0.6320671550340163,\n",
       " ['Age', 'AREA_CODE_RESIDENCIAL_PHONE', 'Sex', 'SHOP_RANK'])"
      ]
     },
     "execution_count": 16,
     "metadata": {},
     "output_type": "execute_result"
    }
   ],
   "source": [
    "i = df.columns.to_list()\n",
    "i.remove('TARGET_LABEL_BAD')\n",
    "modell_evaluator(df, \n",
    "                 i, #['Sex', 'Age', 'MONTHS_IN_THE_JOB', 'PERSONAL_NET_INCOME', 'PAYMENT_DAY'], \n",
    "                 'TARGET_LABEL_BAD', \n",
    "                 DecisionTreeClassifier(), \n",
    "                 'AUC')"
   ]
  },
  {
   "cell_type": "code",
   "execution_count": null,
   "metadata": {},
   "outputs": [],
   "source": []
  }
 ],
 "metadata": {
  "kernelspec": {
   "display_name": "Python 3",
   "language": "python",
   "name": "python3"
  },
  "language_info": {
   "codemirror_mode": {
    "name": "ipython",
    "version": 3
   },
   "file_extension": ".py",
   "mimetype": "text/x-python",
   "name": "python",
   "nbconvert_exporter": "python",
   "pygments_lexer": "ipython3",
   "version": "3.7.3"
  }
 },
 "nbformat": 4,
 "nbformat_minor": 2
}
