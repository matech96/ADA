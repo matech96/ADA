{
 "cells": [
  {
   "cell_type": "code",
   "execution_count": 11,
   "metadata": {},
   "outputs": [],
   "source": [
    "def kishazifeladat1_EMP2B5(l):\n",
    "    if len(l) == 0:\n",
    "        return 0\n",
    "    \n",
    "    return sum(l[::2]) - sum(l[1::2])"
   ]
  },
  {
   "cell_type": "code",
   "execution_count": 14,
   "metadata": {},
   "outputs": [],
   "source": [
    "assert kishazifeladat1_EMP2B5([])==0\n",
    "\n",
    "assert kishazifeladat1_EMP2B5([100])==100\n",
    "\n",
    "assert kishazifeladat1_EMP2B5([100,100])==0\n",
    "\n",
    "assert kishazifeladat1_EMP2B5([100,10,1])==91\n",
    "\n",
    "assert kishazifeladat1_EMP2B5([1]*1001)==1"
   ]
  },
  {
   "cell_type": "code",
   "execution_count": null,
   "metadata": {},
   "outputs": [],
   "source": []
  }
 ],
 "metadata": {
  "kernelspec": {
   "display_name": "Python 3",
   "language": "python",
   "name": "python3"
  },
  "language_info": {
   "codemirror_mode": {
    "name": "ipython",
    "version": 3
   },
   "file_extension": ".py",
   "mimetype": "text/x-python",
   "name": "python",
   "nbconvert_exporter": "python",
   "pygments_lexer": "ipython3",
   "version": "3.7.3"
  }
 },
 "nbformat": 4,
 "nbformat_minor": 2
}
