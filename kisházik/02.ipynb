{
 "cells": [
  {
   "cell_type": "code",
   "execution_count": 1,
   "metadata": {},
   "outputs": [],
   "source": [
    "from collections import Counter, defaultdict"
   ]
  },
  {
   "cell_type": "code",
   "execution_count": 2,
   "metadata": {},
   "outputs": [],
   "source": [
    "def kishazifeladat2_EMP2B5(init_list, list_to_convert):\n",
    "        element_counts = Counter(init_list).most_common()\n",
    "        if len(init_list) == 0:\n",
    "            element2index = {}\n",
    "        else:\n",
    "            slice_count = element_counts[min(len(element_counts), 10) - 1][1]\n",
    "            element2index = {}\n",
    "            for element in init_list:\n",
    "                if element not in element2index:\n",
    "                    element2index[element] = len(element2index)\n",
    "            for element, count in element_counts:\n",
    "                if count < slice_count:\n",
    "                    element2index[element] = -1\n",
    "        return [element2index[element] if element in element2index else -1 for element in list_to_convert]"
   ]
  },
  {
   "cell_type": "code",
   "execution_count": 3,
   "metadata": {},
   "outputs": [],
   "source": [
    "assert kishazifeladat2_EMP2B5(['alma','korte'],['alma','korte','cintrom'])==[0,1,-1]\n",
    "\n",
    "assert kishazifeladat2_EMP2B5([1,2,3,4,5,6,7,8,9,10,11,1,2,3,4,5,6,7,8,9,10], [11])==[-1]\n",
    "\n",
    "assert kishazifeladat2_EMP2B5([1,2,3,4,5,6,7,8,9,10,11,1,2,3,4,5,6,7,8,9,10], [1,2,3])==[0,1,2]\n",
    "\n",
    "assert kishazifeladat2_EMP2B5([],[\"alma\",\"korte\"])==[-1,-1]\n",
    "\n",
    "assert kishazifeladat2_EMP2B5([1,1,2,2,3,3,4,4,5,5,6,6,7,7,8,8,9,9,10,10,11,11,11], [1,10,11])==[0,9,10]\n"
   ]
  }
 ],
 "metadata": {
  "kernelspec": {
   "display_name": "Python 3",
   "language": "python",
   "name": "python3"
  },
  "language_info": {
   "codemirror_mode": {
    "name": "ipython",
    "version": 3
   },
   "file_extension": ".py",
   "mimetype": "text/x-python",
   "name": "python",
   "nbconvert_exporter": "python",
   "pygments_lexer": "ipython3",
   "version": "3.7.3"
  }
 },
 "nbformat": 4,
 "nbformat_minor": 2
}
