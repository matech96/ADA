{
 "cells": [
  {
   "cell_type": "code",
   "execution_count": 61,
   "metadata": {
    "_cell_guid": "79c7e3d0-c299-4dcb-8224-4455121ee9b0",
    "_uuid": "d629ff2d2480ee46fbb7e2d37f6b5fab8052498a"
   },
   "outputs": [],
   "source": [
    "from sklearn.tree import DecisionTreeClassifier\n",
    "from sklearn.ensemble import *\n",
    "from sklearn.model_selection import cross_validate, GridSearchCV\n",
    "from sklearn.preprocessing import StandardScaler\n",
    "from sklearn.metrics import roc_auc_score, accuracy_score\n",
    "import matplotlib.pyplot as plt\n",
    "\n",
    "import pandas as pd\n",
    "import numpy as np"
   ]
  },
  {
   "cell_type": "code",
   "execution_count": 121,
   "metadata": {
    "_cell_guid": "",
    "_uuid": ""
   },
   "outputs": [
    {
     "name": "stderr",
     "output_type": "stream",
     "text": [
      "C:\\ProgramData\\Anaconda3\\lib\\site-packages\\ipykernel_launcher.py:3: FutureWarning: Sorting because non-concatenation axis is not aligned. A future version\n",
      "of pandas will change to not sort by default.\n",
      "\n",
      "To accept the future behavior, pass 'sort=False'.\n",
      "\n",
      "To retain the current behavior and silence the warning, pass 'sort=True'.\n",
      "\n",
      "  This is separate from the ipykernel package so we can avoid doing imports until\n"
     ]
    }
   ],
   "source": [
    "train_df = pd.read_csv(\"data/public_train_trx.csv\")\n",
    "test_df = pd.read_csv(\"data/public_test_trx.csv\")\n",
    "alldf = pd.concat([train_df,test_df])\n",
    "alldf = alldf.sort_values(['session_id','duration_of_session','click_num'])\n",
    "alldf = alldf.reset_index(drop=True)\n",
    "target = 'TARGET_successful_purchase'"
   ]
  },
  {
   "cell_type": "code",
   "execution_count": 122,
   "metadata": {},
   "outputs": [],
   "source": [
    "alldf['start_time_of_session_day_of_year'] = pd.to_datetime(alldf.start_date_of_session).dt.dayofyear\n",
    "alldf['start_weekday_of_session'] = pd.to_datetime(alldf.start_date_of_session).dt.weekday\n",
    "alldf['start_time_of_session_hour'] = pd.to_datetime(alldf.start_time_of_session).dt.hour\n",
    "alldf['start_time_of_session_early'] = alldf['start_time_of_session_hour'] < 8"
   ]
  },
  {
   "cell_type": "code",
   "execution_count": 123,
   "metadata": {},
   "outputs": [],
   "source": [
    "alldf = alldf.fillna(0)\n",
    "# alldf['lifetime_customer_account'] = alldf['lifetime_customer_account'].replace(-1, 0)\n",
    "aggregalando_valtozok = list(alldf.columns)\n",
    "aggregalando_valtozok.remove('test_or_train_flag')\n",
    "aggregalando_valtozok.remove(target)\n",
    "aggregalando_valtozok.remove('start_date_of_session')\n",
    "aggregalando_valtozok.remove('start_time_of_session')\n",
    "aggregalando_valtozok.remove('session_id')"
   ]
  },
  {
   "cell_type": "code",
   "execution_count": 124,
   "metadata": {},
   "outputs": [
    {
     "data": {
      "text/plain": [
       "[<matplotlib.lines.Line2D at 0x12ca5977d68>]"
      ]
     },
     "execution_count": 124,
     "metadata": {},
     "output_type": "execute_result"
    },
    {
     "data": {
      "image/png": "[encoded data removed]",
      "text/plain": [
       "<Figure size 432x288 with 1 Axes>"
      ]
     },
     "metadata": {
      "needs_background": "light"
     },
     "output_type": "display_data"
    }
   ],
   "source": [
    "plt.plot(alldf.groupby('start_time_of_session_hour',as_index=False).agg({target:'mean'})['TARGET_successful_purchase'])"
   ]
  },
  {
   "cell_type": "code",
   "execution_count": 125,
   "metadata": {},
   "outputs": [
    {
     "data": {
      "text/plain": [
       "[<matplotlib.lines.Line2D at 0x12ca5923c50>]"
      ]
     },
     "execution_count": 125,
     "metadata": {},
     "output_type": "execute_result"
    },
    {
     "data": {
      "image/png": "[encoded data removed]",
      "text/plain": [
       "<Figure size 432x288 with 1 Axes>"
      ]
     },
     "metadata": {
      "needs_background": "light"
     },
     "output_type": "display_data"
    }
   ],
   "source": [
    "plt.plot(alldf.groupby('start_time_of_session_hour',as_index=False).agg({target:'count'})['TARGET_successful_purchase'])"
   ]
  },
  {
   "cell_type": "code",
   "execution_count": 126,
   "metadata": {},
   "outputs": [
    {
     "data": {
      "text/plain": [
       "0     0.283010\n",
       "1     0.273609\n",
       "2     0.317447\n",
       "3     0.260718\n",
       "4     0.282086\n",
       "5     0.158974\n",
       "6     0.323549\n",
       "7     0.290643\n",
       "8     0.345948\n",
       "9     0.328446\n",
       "10    0.325468\n",
       "11    0.342411\n",
       "12    0.363781\n",
       "13    0.376256\n",
       "14    0.356930\n",
       "15    0.380229\n",
       "16    0.366884\n",
       "17    0.337877\n",
       "18    0.383834\n",
       "19    0.369962\n",
       "20    0.366440\n",
       "21    0.348608\n",
       "22    0.327448\n",
       "23    0.283875\n",
       "Name: TARGET_successful_purchase, dtype: float64"
      ]
     },
     "execution_count": 126,
     "metadata": {},
     "output_type": "execute_result"
    }
   ],
   "source": [
    "alldf.groupby('start_time_of_session_hour',as_index=False).agg({target:'mean'})['TARGET_successful_purchase']"
   ]
  },
  {
   "cell_type": "code",
   "execution_count": 127,
   "metadata": {},
   "outputs": [],
   "source": [
    "cust_df = alldf.groupby('session_id',as_index=False).agg({target:'min',\n",
    "                                        'test_or_train_flag':'min'})\n",
    "for aggregalos_modszer in ['min','max', 'mean']:\n",
    "    task={}\n",
    "    ujoszlonevek=[]\n",
    "    for v in aggregalando_valtozok:\n",
    "        task[v]=aggregalos_modszer\n",
    "        ujoszlonevek.append(aggregalos_modszer+\"_\"+v)\n",
    "    stat = alldf.groupby(['session_id'],as_index=False).agg(task)\n",
    "    stat.columns=['session_id']+ujoszlonevek\n",
    "    cust_df = cust_df.merge(stat,on='session_id',how='left')"
   ]
  },
  {
   "cell_type": "code",
   "execution_count": 128,
   "metadata": {},
   "outputs": [],
   "source": [
    "cust_df['click_per_durr'] = cust_df['max_click_num'] / cust_df['max_duration_of_session']\n",
    "cust_df['vis_price_per_durr'] = cust_df['max_sum_price_of_visited_products'] / cust_df['max_duration_of_session']\n",
    "cust_df['basket_elem_per_durr'] = cust_df['max_basket_element_number'] / cust_df['max_duration_of_session']\n",
    "cust_df['basket_sum_per_durr'] = cust_df['max_sum_price_of_products_in_basket'] / cust_df['max_duration_of_session']\n",
    "\n",
    "cust_df['bought_elem_visited_price_ratio'] = cust_df['max_basket_element_number'] / cust_df['max_sum_price_of_visited_products']\n",
    "\n",
    "cust_df['bought_price_visited_price_ratio'] = cust_df['max_sum_price_of_products_in_basket']  / cust_df['max_sum_price_of_visited_products']\n",
    "\n",
    "cust_df['payment_per_cust_existance'] = cust_df['max_num_of_previous_payments'] / cust_df['max_lifetime_customer_account']\n",
    "\n",
    "cust_df['max_registration_age'] = cust_df['max_customer_age'] - (cust_df['max_lifetime_customer_account'] / 365)\n",
    "\n",
    "cust_df.replace(np.inf, 0, inplace=True)\n",
    "cust_df.fillna(0, inplace=True)"
   ]
  },
  {
   "cell_type": "code",
   "execution_count": 145,
   "metadata": {},
   "outputs": [
    {
     "name": "stdout",
     "output_type": "stream",
     "text": [
      "Training set size: (24584, 2628)\n"
     ]
    }
   ],
   "source": [
    "from sklearn.preprocessing import PolynomialFeatures\n",
    "\n",
    "bemeno_valtozok = list(cust_df.columns)[3:]\n",
    "ismert_df = cust_df[ cust_df['test_or_train_flag']==0].copy()\n",
    "# x_train = ismert_df[bemeno_valtozok]\n",
    "# y_train = ismert_df[target]\n",
    "# x_pred = cust_df[cust_df['test_or_train_flag'] == 1][bemeno_valtozok]\n",
    "\n",
    "# poly = PolynomialFeatures(2)\n",
    "# x_train = poly.fit_transform(x_train.to_numpy())\n",
    "# x_pred = poly.transform(x_pred.to_numpy())\n",
    "\n",
    "# scaler = StandardScaler()\n",
    "# x_train = scaler.fit_transform(x_train)\n",
    "# x_pred = scaler.transform(x_pred)\n",
    "# print(f\"Training set size: {x_train.shape}\")"
   ]
  },
  {
   "cell_type": "code",
   "execution_count": 149,
   "metadata": {},
   "outputs": [
    {
     "data": {
      "text/plain": [
       "(24584, 2628)"
      ]
     },
     "execution_count": 149,
     "metadata": {},
     "output_type": "execute_result"
    }
   ],
   "source": [
    "x_train.shape"
   ]
  },
  {
   "cell_type": "code",
   "execution_count": 156,
   "metadata": {},
   "outputs": [],
   "source": [
    "def rounding_score_decorator(score):\n",
    "    return lambda y_true, y_pred: score(y_true, y_pred > 0.5)\n",
    "\n",
    "def text2score(optimalization):\n",
    "    if optimalization == 'AUC':\n",
    "        score = roc_auc_score\n",
    "    elif optimalization == 'Precision':\n",
    "        score = rounding_score_decorator(precision_score)\n",
    "    elif optimalization == 'Recall':\n",
    "        score = rounding_score_decorator(recall_score)\n",
    "    elif optimalization == 'Accuracy':\n",
    "        score = rounding_score_decorator(accuracy_score)\n",
    "    return score\n",
    "\n",
    "def modell_evaluator(data, input_attributes, target_attribute, model, n=1):\n",
    "    def test_attributes(fix_input, possible_inputs):\n",
    "        best_score = -1\n",
    "        best_input = None\n",
    "        for possible_input in possible_inputs:\n",
    "            x_train = data[fix_input + [possible_input]].to_numpy()\n",
    "            poly = PolynomialFeatures(n)\n",
    "            x_train = poly.fit_transform(x_train)\n",
    "#             scaler = StandardScaler()\n",
    "#             x_train = scaler.fit_transform(x_train)\n",
    "            \n",
    "            cv_results = cross_validate(model,\n",
    "                            x_train, data[target_attribute],\n",
    "                            scoring=['roc_auc', 'accuracy'], cv=3, n_jobs=4)\n",
    "            s = cv_results['test_roc_auc'].mean()\n",
    "            if s > best_score:\n",
    "                best_score = s\n",
    "                best_input = possible_input\n",
    "        return best_input, best_score\n",
    "    good_inputs = []\n",
    "    in_race_inputs = input_attributes\n",
    "    best_s = -1\n",
    "    while len(in_race_inputs):\n",
    "        i_to_accept, s = test_attributes(good_inputs, input_attributes)\n",
    "        print(i_to_accept, s)\n",
    "        if s < best_s:\n",
    "            return best_s, good_inputs\n",
    "        \n",
    "        best_s = s\n",
    "        good_inputs.append(i_to_accept)\n",
    "        in_race_inputs.remove(i_to_accept)\n",
    "    return best_s, good_inputs"
   ]
  },
  {
   "cell_type": "code",
   "execution_count": 157,
   "metadata": {},
   "outputs": [],
   "source": [
    "from sklearn.linear_model import LogisticRegression"
   ]
  },
  {
   "cell_type": "code",
   "execution_count": 158,
   "metadata": {},
   "outputs": [
    {
     "name": "stdout",
     "output_type": "stream",
     "text": [
      "max_lifetime_customer_account 0.7050045185196421\n",
      "max_duration_of_session 0.7433663851449169\n",
      "min_duration_of_session 0.7661100375821808\n",
      "mean_duration_of_session 0.7692782950250386\n",
      "min_num_of_previous_payments 0.7702193797726485\n",
      "mean_max_val 0.7705178616779677\n",
      "max_regio_of_customer 0.770672150443447\n",
      "mean_last_order_of_customer 0.7707314424640191\n",
      "click_per_durr 0.7707019760090802\n"
     ]
    },
    {
     "data": {
      "text/plain": [
       "(0.7707314424640191,\n",
       " ['max_lifetime_customer_account',\n",
       "  'max_duration_of_session',\n",
       "  'min_duration_of_session',\n",
       "  'mean_duration_of_session',\n",
       "  'min_num_of_previous_payments',\n",
       "  'mean_max_val',\n",
       "  'max_regio_of_customer',\n",
       "  'mean_last_order_of_customer'])"
      ]
     },
     "execution_count": 158,
     "metadata": {},
     "output_type": "execute_result"
    }
   ],
   "source": [
    "modell_evaluator(ismert_df, \n",
    "                 bemeno_valtozok, \n",
    "                 target,\n",
    "                 LogisticRegression())"
   ]
  },
  {
   "cell_type": "code",
   "execution_count": 10,
   "metadata": {
    "collapsed": true
   },
   "outputs": [
    {
     "name": "stdout",
     "output_type": "stream",
     "text": [
      "mean_click_num 0.6951923119628948\n",
      "max_regio_of_customer 0.7409107179229348\n",
      "click_per_durr 0.7638062863332604\n",
      "min_click_num 0.7657512837800718\n",
      "max_click_num 0.7929701943414699\n",
      "mean_regio_of_customer 0.7936343947120671\n",
      "min_regio_of_customer 0.7949950638083401\n",
      "basket_elem_per_durr 0.795337225976568\n",
      "min_basket_element_number 0.7954744961579913\n"
     ]
    },
    {
     "ename": "KeyboardInterrupt",
     "evalue": "",
     "output_type": "error",
     "traceback": [
      "\u001b[1;31m---------------------------------------------------------------------------\u001b[0m",
      "\u001b[1;31mKeyboardInterrupt\u001b[0m                         Traceback (most recent call last)",
      "\u001b[1;32m<ipython-input-10-aed47641f4e7>\u001b[0m in \u001b[0;36m<module>\u001b[1;34m\u001b[0m\n\u001b[0;32m      3\u001b[0m                  \u001b[0mbemeno_valtozok\u001b[0m\u001b[1;33m,\u001b[0m\u001b[1;33m\u001b[0m\u001b[1;33m\u001b[0m\u001b[0m\n\u001b[0;32m      4\u001b[0m                  \u001b[0mtarget\u001b[0m\u001b[1;33m,\u001b[0m\u001b[1;33m\u001b[0m\u001b[1;33m\u001b[0m\u001b[0m\n\u001b[1;32m----> 5\u001b[1;33m                  KNeighborsClassifier())\n\u001b[0m",
      "\u001b[1;32m<ipython-input-7-f0e0766aaf08>\u001b[0m in \u001b[0;36mmodell_evaluator\u001b[1;34m(data, input_attributes, target_attribute, model)\u001b[0m\n\u001b[0;32m     30\u001b[0m     \u001b[0mbest_s\u001b[0m \u001b[1;33m=\u001b[0m \u001b[1;33m-\u001b[0m\u001b[1;36m1\u001b[0m\u001b[1;33m\u001b[0m\u001b[1;33m\u001b[0m\u001b[0m\n\u001b[0;32m     31\u001b[0m     \u001b[1;32mwhile\u001b[0m \u001b[0mlen\u001b[0m\u001b[1;33m(\u001b[0m\u001b[0min_race_inputs\u001b[0m\u001b[1;33m)\u001b[0m\u001b[1;33m:\u001b[0m\u001b[1;33m\u001b[0m\u001b[1;33m\u001b[0m\u001b[0m\n\u001b[1;32m---> 32\u001b[1;33m         \u001b[0mi_to_accept\u001b[0m\u001b[1;33m,\u001b[0m \u001b[0ms\u001b[0m \u001b[1;33m=\u001b[0m \u001b[0mtest_attributes\u001b[0m\u001b[1;33m(\u001b[0m\u001b[0mgood_inputs\u001b[0m\u001b[1;33m,\u001b[0m \u001b[0minput_attributes\u001b[0m\u001b[1;33m)\u001b[0m\u001b[1;33m\u001b[0m\u001b[1;33m\u001b[0m\u001b[0m\n\u001b[0m\u001b[0;32m     33\u001b[0m         \u001b[0mprint\u001b[0m\u001b[1;33m(\u001b[0m\u001b[0mi_to_accept\u001b[0m\u001b[1;33m,\u001b[0m \u001b[0ms\u001b[0m\u001b[1;33m)\u001b[0m\u001b[1;33m\u001b[0m\u001b[1;33m\u001b[0m\u001b[0m\n\u001b[0;32m     34\u001b[0m         \u001b[1;32mif\u001b[0m \u001b[0ms\u001b[0m \u001b[1;33m<\u001b[0m \u001b[0mbest_s\u001b[0m\u001b[1;33m:\u001b[0m\u001b[1;33m\u001b[0m\u001b[1;33m\u001b[0m\u001b[0m\n",
      "\u001b[1;32m<ipython-input-7-f0e0766aaf08>\u001b[0m in \u001b[0;36mtest_attributes\u001b[1;34m(fix_input, possible_inputs)\u001b[0m\n\u001b[0;32m     20\u001b[0m             cv_results = cross_validate(model,\n\u001b[0;32m     21\u001b[0m                             \u001b[0mdata\u001b[0m\u001b[1;33m[\u001b[0m\u001b[0mfix_input\u001b[0m \u001b[1;33m+\u001b[0m \u001b[1;33m[\u001b[0m\u001b[0mpossible_input\u001b[0m\u001b[1;33m]\u001b[0m\u001b[1;33m]\u001b[0m\u001b[1;33m,\u001b[0m \u001b[0mdata\u001b[0m\u001b[1;33m[\u001b[0m\u001b[0mtarget_attribute\u001b[0m\u001b[1;33m]\u001b[0m\u001b[1;33m,\u001b[0m\u001b[1;33m\u001b[0m\u001b[1;33m\u001b[0m\u001b[0m\n\u001b[1;32m---> 22\u001b[1;33m                             scoring=['roc_auc', 'accuracy'], cv=3, n_jobs=4)\n\u001b[0m\u001b[0;32m     23\u001b[0m             \u001b[0ms\u001b[0m \u001b[1;33m=\u001b[0m \u001b[0mcv_results\u001b[0m\u001b[1;33m[\u001b[0m\u001b[1;34m'test_roc_auc'\u001b[0m\u001b[1;33m]\u001b[0m\u001b[1;33m.\u001b[0m\u001b[0mmean\u001b[0m\u001b[1;33m(\u001b[0m\u001b[1;33m)\u001b[0m\u001b[1;33m\u001b[0m\u001b[1;33m\u001b[0m\u001b[0m\n\u001b[0;32m     24\u001b[0m             \u001b[1;32mif\u001b[0m \u001b[0ms\u001b[0m \u001b[1;33m>\u001b[0m \u001b[0mbest_score\u001b[0m\u001b[1;33m:\u001b[0m\u001b[1;33m\u001b[0m\u001b[1;33m\u001b[0m\u001b[0m\n",
      "\u001b[1;32mC:\\ProgramData\\Anaconda3\\lib\\site-packages\\sklearn\\model_selection\\_validation.py\u001b[0m in \u001b[0;36mcross_validate\u001b[1;34m(estimator, X, y, groups, scoring, cv, n_jobs, verbose, fit_params, pre_dispatch, return_train_score, return_estimator, error_score)\u001b[0m\n\u001b[0;32m    233\u001b[0m             \u001b[0mreturn_times\u001b[0m\u001b[1;33m=\u001b[0m\u001b[1;32mTrue\u001b[0m\u001b[1;33m,\u001b[0m \u001b[0mreturn_estimator\u001b[0m\u001b[1;33m=\u001b[0m\u001b[0mreturn_estimator\u001b[0m\u001b[1;33m,\u001b[0m\u001b[1;33m\u001b[0m\u001b[1;33m\u001b[0m\u001b[0m\n\u001b[0;32m    234\u001b[0m             error_score=error_score)\n\u001b[1;32m--> 235\u001b[1;33m         for train, test in cv.split(X, y, groups))\n\u001b[0m\u001b[0;32m    236\u001b[0m \u001b[1;33m\u001b[0m\u001b[0m\n\u001b[0;32m    237\u001b[0m     \u001b[0mzipped_scores\u001b[0m \u001b[1;33m=\u001b[0m \u001b[0mlist\u001b[0m\u001b[1;33m(\u001b[0m\u001b[0mzip\u001b[0m\u001b[1;33m(\u001b[0m\u001b[1;33m*\u001b[0m\u001b[0mscores\u001b[0m\u001b[1;33m)\u001b[0m\u001b[1;33m)\u001b[0m\u001b[1;33m\u001b[0m\u001b[1;33m\u001b[0m\u001b[0m\n",
      "\u001b[1;32mC:\\ProgramData\\Anaconda3\\lib\\site-packages\\joblib\\parallel.py\u001b[0m in \u001b[0;36m__call__\u001b[1;34m(self, iterable)\u001b[0m\n\u001b[0;32m   1015\u001b[0m \u001b[1;33m\u001b[0m\u001b[0m\n\u001b[0;32m   1016\u001b[0m             \u001b[1;32mwith\u001b[0m \u001b[0mself\u001b[0m\u001b[1;33m.\u001b[0m\u001b[0m_backend\u001b[0m\u001b[1;33m.\u001b[0m\u001b[0mretrieval_context\u001b[0m\u001b[1;33m(\u001b[0m\u001b[1;33m)\u001b[0m\u001b[1;33m:\u001b[0m\u001b[1;33m\u001b[0m\u001b[1;33m\u001b[0m\u001b[0m\n\u001b[1;32m-> 1017\u001b[1;33m                 \u001b[0mself\u001b[0m\u001b[1;33m.\u001b[0m\u001b[0mretrieve\u001b[0m\u001b[1;33m(\u001b[0m\u001b[1;33m)\u001b[0m\u001b[1;33m\u001b[0m\u001b[1;33m\u001b[0m\u001b[0m\n\u001b[0m\u001b[0;32m   1018\u001b[0m             \u001b[1;31m# Make sure that we get a last message telling us we are done\u001b[0m\u001b[1;33m\u001b[0m\u001b[1;33m\u001b[0m\u001b[1;33m\u001b[0m\u001b[0m\n\u001b[0;32m   1019\u001b[0m             \u001b[0melapsed_time\u001b[0m \u001b[1;33m=\u001b[0m \u001b[0mtime\u001b[0m\u001b[1;33m.\u001b[0m\u001b[0mtime\u001b[0m\u001b[1;33m(\u001b[0m\u001b[1;33m)\u001b[0m \u001b[1;33m-\u001b[0m \u001b[0mself\u001b[0m\u001b[1;33m.\u001b[0m\u001b[0m_start_time\u001b[0m\u001b[1;33m\u001b[0m\u001b[1;33m\u001b[0m\u001b[0m\n",
      "\u001b[1;32mC:\\ProgramData\\Anaconda3\\lib\\site-packages\\joblib\\parallel.py\u001b[0m in \u001b[0;36mretrieve\u001b[1;34m(self)\u001b[0m\n\u001b[0;32m    907\u001b[0m             \u001b[1;32mtry\u001b[0m\u001b[1;33m:\u001b[0m\u001b[1;33m\u001b[0m\u001b[1;33m\u001b[0m\u001b[0m\n\u001b[0;32m    908\u001b[0m                 \u001b[1;32mif\u001b[0m \u001b[0mgetattr\u001b[0m\u001b[1;33m(\u001b[0m\u001b[0mself\u001b[0m\u001b[1;33m.\u001b[0m\u001b[0m_backend\u001b[0m\u001b[1;33m,\u001b[0m \u001b[1;34m'supports_timeout'\u001b[0m\u001b[1;33m,\u001b[0m \u001b[1;32mFalse\u001b[0m\u001b[1;33m)\u001b[0m\u001b[1;33m:\u001b[0m\u001b[1;33m\u001b[0m\u001b[1;33m\u001b[0m\u001b[0m\n\u001b[1;32m--> 909\u001b[1;33m                     \u001b[0mself\u001b[0m\u001b[1;33m.\u001b[0m\u001b[0m_output\u001b[0m\u001b[1;33m.\u001b[0m\u001b[0mextend\u001b[0m\u001b[1;33m(\u001b[0m\u001b[0mjob\u001b[0m\u001b[1;33m.\u001b[0m\u001b[0mget\u001b[0m\u001b[1;33m(\u001b[0m\u001b[0mtimeout\u001b[0m\u001b[1;33m=\u001b[0m\u001b[0mself\u001b[0m\u001b[1;33m.\u001b[0m\u001b[0mtimeout\u001b[0m\u001b[1;33m)\u001b[0m\u001b[1;33m)\u001b[0m\u001b[1;33m\u001b[0m\u001b[1;33m\u001b[0m\u001b[0m\n\u001b[0m\u001b[0;32m    910\u001b[0m                 \u001b[1;32melse\u001b[0m\u001b[1;33m:\u001b[0m\u001b[1;33m\u001b[0m\u001b[1;33m\u001b[0m\u001b[0m\n\u001b[0;32m    911\u001b[0m                     \u001b[0mself\u001b[0m\u001b[1;33m.\u001b[0m\u001b[0m_output\u001b[0m\u001b[1;33m.\u001b[0m\u001b[0mextend\u001b[0m\u001b[1;33m(\u001b[0m\u001b[0mjob\u001b[0m\u001b[1;33m.\u001b[0m\u001b[0mget\u001b[0m\u001b[1;33m(\u001b[0m\u001b[1;33m)\u001b[0m\u001b[1;33m)\u001b[0m\u001b[1;33m\u001b[0m\u001b[1;33m\u001b[0m\u001b[0m\n",
      "\u001b[1;32mC:\\ProgramData\\Anaconda3\\lib\\site-packages\\joblib\\_parallel_backends.py\u001b[0m in \u001b[0;36mwrap_future_result\u001b[1;34m(future, timeout)\u001b[0m\n\u001b[0;32m    560\u001b[0m         AsyncResults.get from multiprocessing.\"\"\"\n\u001b[0;32m    561\u001b[0m         \u001b[1;32mtry\u001b[0m\u001b[1;33m:\u001b[0m\u001b[1;33m\u001b[0m\u001b[1;33m\u001b[0m\u001b[0m\n\u001b[1;32m--> 562\u001b[1;33m             \u001b[1;32mreturn\u001b[0m \u001b[0mfuture\u001b[0m\u001b[1;33m.\u001b[0m\u001b[0mresult\u001b[0m\u001b[1;33m(\u001b[0m\u001b[0mtimeout\u001b[0m\u001b[1;33m=\u001b[0m\u001b[0mtimeout\u001b[0m\u001b[1;33m)\u001b[0m\u001b[1;33m\u001b[0m\u001b[1;33m\u001b[0m\u001b[0m\n\u001b[0m\u001b[0;32m    563\u001b[0m         \u001b[1;32mexcept\u001b[0m \u001b[0mLokyTimeoutError\u001b[0m\u001b[1;33m:\u001b[0m\u001b[1;33m\u001b[0m\u001b[1;33m\u001b[0m\u001b[0m\n\u001b[0;32m    564\u001b[0m             \u001b[1;32mraise\u001b[0m \u001b[0mTimeoutError\u001b[0m\u001b[1;33m(\u001b[0m\u001b[1;33m)\u001b[0m\u001b[1;33m\u001b[0m\u001b[1;33m\u001b[0m\u001b[0m\n",
      "\u001b[1;32mC:\\ProgramData\\Anaconda3\\lib\\concurrent\\futures\\_base.py\u001b[0m in \u001b[0;36mresult\u001b[1;34m(self, timeout)\u001b[0m\n\u001b[0;32m    425\u001b[0m                 \u001b[1;32mreturn\u001b[0m \u001b[0mself\u001b[0m\u001b[1;33m.\u001b[0m\u001b[0m__get_result\u001b[0m\u001b[1;33m(\u001b[0m\u001b[1;33m)\u001b[0m\u001b[1;33m\u001b[0m\u001b[1;33m\u001b[0m\u001b[0m\n\u001b[0;32m    426\u001b[0m \u001b[1;33m\u001b[0m\u001b[0m\n\u001b[1;32m--> 427\u001b[1;33m             \u001b[0mself\u001b[0m\u001b[1;33m.\u001b[0m\u001b[0m_condition\u001b[0m\u001b[1;33m.\u001b[0m\u001b[0mwait\u001b[0m\u001b[1;33m(\u001b[0m\u001b[0mtimeout\u001b[0m\u001b[1;33m)\u001b[0m\u001b[1;33m\u001b[0m\u001b[1;33m\u001b[0m\u001b[0m\n\u001b[0m\u001b[0;32m    428\u001b[0m \u001b[1;33m\u001b[0m\u001b[0m\n\u001b[0;32m    429\u001b[0m             \u001b[1;32mif\u001b[0m \u001b[0mself\u001b[0m\u001b[1;33m.\u001b[0m\u001b[0m_state\u001b[0m \u001b[1;32min\u001b[0m \u001b[1;33m[\u001b[0m\u001b[0mCANCELLED\u001b[0m\u001b[1;33m,\u001b[0m \u001b[0mCANCELLED_AND_NOTIFIED\u001b[0m\u001b[1;33m]\u001b[0m\u001b[1;33m:\u001b[0m\u001b[1;33m\u001b[0m\u001b[1;33m\u001b[0m\u001b[0m\n",
      "\u001b[1;32mC:\\ProgramData\\Anaconda3\\lib\\threading.py\u001b[0m in \u001b[0;36mwait\u001b[1;34m(self, timeout)\u001b[0m\n\u001b[0;32m    294\u001b[0m         \u001b[1;32mtry\u001b[0m\u001b[1;33m:\u001b[0m    \u001b[1;31m# restore state no matter what (e.g., KeyboardInterrupt)\u001b[0m\u001b[1;33m\u001b[0m\u001b[1;33m\u001b[0m\u001b[0m\n\u001b[0;32m    295\u001b[0m             \u001b[1;32mif\u001b[0m \u001b[0mtimeout\u001b[0m \u001b[1;32mis\u001b[0m \u001b[1;32mNone\u001b[0m\u001b[1;33m:\u001b[0m\u001b[1;33m\u001b[0m\u001b[1;33m\u001b[0m\u001b[0m\n\u001b[1;32m--> 296\u001b[1;33m                 \u001b[0mwaiter\u001b[0m\u001b[1;33m.\u001b[0m\u001b[0macquire\u001b[0m\u001b[1;33m(\u001b[0m\u001b[1;33m)\u001b[0m\u001b[1;33m\u001b[0m\u001b[1;33m\u001b[0m\u001b[0m\n\u001b[0m\u001b[0;32m    297\u001b[0m                 \u001b[0mgotit\u001b[0m \u001b[1;33m=\u001b[0m \u001b[1;32mTrue\u001b[0m\u001b[1;33m\u001b[0m\u001b[1;33m\u001b[0m\u001b[0m\n\u001b[0;32m    298\u001b[0m             \u001b[1;32melse\u001b[0m\u001b[1;33m:\u001b[0m\u001b[1;33m\u001b[0m\u001b[1;33m\u001b[0m\u001b[0m\n",
      "\u001b[1;31mKeyboardInterrupt\u001b[0m: "
     ]
    }
   ],
   "source": [
    "from sklearn.neighbors import *\n",
    "modell_evaluator(ismert_df, \n",
    "                 bemeno_valtozok, \n",
    "                 target,\n",
    "                 KNeighborsClassifier())"
   ]
  },
  {
   "cell_type": "code",
   "execution_count": 118,
   "metadata": {},
   "outputs": [
    {
     "name": "stdout",
     "output_type": "stream",
     "text": [
      "max_lifetime_customer_account 0.7055599738134882\n",
      "min_level_of_purchasing_process 0.7075005741604153\n",
      "min_lifetime_customer_account 0.7069829434854574\n"
     ]
    },
    {
     "data": {
      "text/plain": [
       "(0.7075005741604153,\n",
       " ['max_lifetime_customer_account', 'min_level_of_purchasing_process'])"
      ]
     },
     "execution_count": 118,
     "metadata": {},
     "output_type": "execute_result"
    }
   ],
   "source": [
    "from sklearn.tree import *\n",
    "modell_evaluator(ismert_df, \n",
    "                 bemeno_valtozok, \n",
    "                 target,\n",
    "                 DecisionTreeClassifier())"
   ]
  },
  {
   "cell_type": "code",
   "execution_count": 36,
   "metadata": {},
   "outputs": [
    {
     "name": "stdout",
     "output_type": "stream",
     "text": [
      "\t0.8666282542737099,\t0.7918969712953853\n"
     ]
    }
   ],
   "source": [
    "cv_results = cross_validate(DecisionTreeClassifier(max_depth = 6),\n",
    "                            x_train, y_train,\n",
    "                            scoring=['roc_auc', 'accuracy'], cv=3, n_jobs=4)\n",
    "auc = cv_results['test_roc_auc'].mean()\n",
    "print(f\"\\t{auc},\\t{cv_results['test_accuracy'].mean()}\")"
   ]
  },
  {
   "cell_type": "code",
   "execution_count": null,
   "metadata": {},
   "outputs": [],
   "source": [
    "model = RandomForestClassifier(max_depth = 14, n_estimators = 1000)\n",
    "model.fit(x_train, y_train)\n",
    "pred = model.predict_proba(x_pred)\n",
    "# accuracy_score(ismert_df[target],model.predict(ismert_df[bemeno_valtozok]))"
   ]
  }
 ],
 "metadata": {
  "kernelspec": {
   "display_name": "Python 3",
   "language": "python",
   "name": "python3"
  },
  "language_info": {
   "codemirror_mode": {
    "name": "ipython",
    "version": 3
   },
   "file_extension": ".py",
   "mimetype": "text/x-python",
   "name": "python",
   "nbconvert_exporter": "python",
   "pygments_lexer": "ipython3",
   "version": "3.7.3"
  }
 },
 "nbformat": 4,
 "nbformat_minor": 1
}
