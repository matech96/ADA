{
 "cells": [
  {
   "cell_type": "code",
   "execution_count": 1,
   "metadata": {
    "_cell_guid": "79c7e3d0-c299-4dcb-8224-4455121ee9b0",
    "_uuid": "d629ff2d2480ee46fbb7e2d37f6b5fab8052498a"
   },
   "outputs": [],
   "source": [
    "from sklearn.tree import DecisionTreeClassifier\n",
    "from sklearn.ensemble import *\n",
    "from sklearn.model_selection import cross_validate, GridSearchCV\n",
    "from sklearn.preprocessing import StandardScaler\n",
    "from sklearn.metrics import roc_auc_score, accuracy_score\n",
    "import matplotlib.pyplot as plt\n",
    "\n",
    "import pandas as pd\n",
    "import numpy as np"
   ]
  },
  {
   "cell_type": "code",
   "execution_count": 2,
   "metadata": {
    "_cell_guid": "",
    "_uuid": ""
   },
   "outputs": [
    {
     "name": "stderr",
     "output_type": "stream",
     "text": [
      "C:\\ProgramData\\Anaconda3\\lib\\site-packages\\ipykernel_launcher.py:3: FutureWarning: Sorting because non-concatenation axis is not aligned. A future version\n",
      "of pandas will change to not sort by default.\n",
      "\n",
      "To accept the future behavior, pass 'sort=False'.\n",
      "\n",
      "To retain the current behavior and silence the warning, pass 'sort=True'.\n",
      "\n",
      "  This is separate from the ipykernel package so we can avoid doing imports until\n"
     ]
    }
   ],
   "source": [
    "train_df = pd.read_csv(\"data/public_train_trx.csv\")\n",
    "test_df = pd.read_csv(\"data/public_test_trx.csv\")\n",
    "alldf = pd.concat([train_df,test_df])\n",
    "alldf = alldf.sort_values(['session_id','duration_of_session','click_num'])\n",
    "alldf = alldf.reset_index(drop=True)\n",
    "target = 'TARGET_successful_purchase'"
   ]
  },
  {
   "cell_type": "code",
   "execution_count": 3,
   "metadata": {},
   "outputs": [],
   "source": [
    "alldf = alldf.fillna(0)\n",
    "# alldf['lifetime_customer_account'] = alldf['lifetime_customer_account'].replace(-1, 0)\n",
    "aggregalando_valtozok = list(alldf.columns)\n",
    "aggregalando_valtozok.remove('test_or_train_flag')\n",
    "aggregalando_valtozok.remove(target)\n",
    "aggregalando_valtozok.remove('start_date_of_session')\n",
    "aggregalando_valtozok.remove('start_time_of_session')\n",
    "aggregalando_valtozok.remove('session_id')"
   ]
  },
  {
   "cell_type": "code",
   "execution_count": 4,
   "metadata": {},
   "outputs": [],
   "source": [
    "cust_df = alldf.groupby('session_id',as_index=False).agg({target:'min',\n",
    "                                        'test_or_train_flag':'min'})\n",
    "for aggregalos_modszer in ['min','max','mean']:\n",
    "    task={}\n",
    "    ujoszlonevek=[]\n",
    "    for v in aggregalando_valtozok:\n",
    "        task[v]=aggregalos_modszer\n",
    "        ujoszlonevek.append(aggregalos_modszer+\"_\"+v)\n",
    "    stat = alldf.groupby(['session_id'],as_index=False).agg(task)\n",
    "    stat.columns=['session_id']+ujoszlonevek\n",
    "    cust_df = cust_df.merge(stat,on='session_id',how='left')"
   ]
  },
  {
   "cell_type": "code",
   "execution_count": 5,
   "metadata": {},
   "outputs": [],
   "source": [
    "cust_df['click_per_durr'] = cust_df['max_click_num'] / cust_df['max_duration_of_session']\n",
    "cust_df['vis_price_per_durr'] = cust_df['max_sum_price_of_visited_products'] / cust_df['max_duration_of_session']\n",
    "cust_df['basket_elem_per_durr'] = cust_df['max_basket_element_number'] / cust_df['max_duration_of_session']\n",
    "cust_df['basket_sum_per_durr'] = cust_df['max_sum_price_of_products_in_basket'] / cust_df['max_duration_of_session']\n",
    "\n",
    "cust_df['bought_elem_visited_price_ratio'] = cust_df['max_basket_element_number'] / cust_df['max_sum_price_of_visited_products']\n",
    "\n",
    "cust_df['bought_price_visited_price_ratio'] = cust_df['max_sum_price_of_products_in_basket']  / cust_df['max_sum_price_of_visited_products']\n",
    "\n",
    "cust_df['payment_per_cust_existance'] = cust_df['max_num_of_previous_payments'] / cust_df['max_lifetime_customer_account']\n",
    "\n",
    "cust_df['max_registration_age'] = cust_df['max_customer_age'] - (cust_df['max_lifetime_customer_account'] / 365)\n",
    "\n",
    "cust_df.replace(np.inf, 0, inplace=True)\n",
    "cust_df.fillna(0, inplace=True)"
   ]
  },
  {
   "cell_type": "code",
   "execution_count": 6,
   "metadata": {},
   "outputs": [
    {
     "name": "stdout",
     "output_type": "stream",
     "text": [
      "Training set size: (24584, 59)\n"
     ]
    }
   ],
   "source": [
    "bemeno_valtozok = list(cust_df.columns)[3:]\n",
    "ismert_df = cust_df[ cust_df['test_or_train_flag']==0].copy()\n",
    "x_train = ismert_df[bemeno_valtozok]\n",
    "y_train = ismert_df[target]\n",
    "x_pred = cust_df[cust_df['test_or_train_flag'] == 1][bemeno_valtozok]\n",
    "scaler = StandardScaler()\n",
    "# x_train = scaler.fit_transform(x_train)\n",
    "# x_pred = scaler.transform(x_pred)\n",
    "print(f\"Training set size: {x_train.shape}\")"
   ]
  },
  {
   "cell_type": "code",
   "execution_count": 7,
   "metadata": {},
   "outputs": [
    {
     "name": "stdout",
     "output_type": "stream",
     "text": [
      "\t0.8790137871045206,\t0.8012933316435796\n",
      "Wall time: 9.47 s\n"
     ]
    }
   ],
   "source": [
    "%%time\n",
    "cv_results = cross_validate(RandomForestClassifier(max_depth = 14, n_estimators = 100),\n",
    "                            x_train, y_train,\n",
    "                            scoring=['roc_auc', 'accuracy'], cv=3, n_jobs=4)\n",
    "auc = cv_results['test_roc_auc'].mean()\n",
    "print(f\"\\t{auc},\\t{cv_results['test_accuracy'].mean()}\")"
   ]
  },
  {
   "cell_type": "code",
   "execution_count": 8,
   "metadata": {},
   "outputs": [],
   "source": [
    "def rounding_score_decorator(score):\n",
    "    return lambda y_true, y_pred: score(y_true, y_pred > 0.5)\n",
    "\n",
    "def text2score(optimalization):\n",
    "    if optimalization == 'AUC':\n",
    "        score = roc_auc_score\n",
    "    elif optimalization == 'Precision':\n",
    "        score = rounding_score_decorator(precision_score)\n",
    "    elif optimalization == 'Recall':\n",
    "        score = rounding_score_decorator(recall_score)\n",
    "    elif optimalization == 'Accuracy':\n",
    "        score = rounding_score_decorator(accuracy_score)\n",
    "    return score\n",
    "\n",
    "def modell_evaluator(data, input_attributes, target_attribute):\n",
    "    def test_attributes(fix_input, possible_inputs):\n",
    "        best_score = -1\n",
    "        best_input = None\n",
    "        for possible_input in possible_inputs:\n",
    "            cv_results = cross_validate(RandomForestClassifier(max_depth = 14, n_estimators = 100),\n",
    "                            data[fix_input + [possible_input]], data[target_attribute],\n",
    "                            scoring=['roc_auc', 'accuracy'], cv=3, n_jobs=4)\n",
    "            s = cv_results['test_roc_auc'].mean()\n",
    "            if s > best_score:\n",
    "                best_score = s\n",
    "                best_input = possible_input\n",
    "        return best_input, best_score\n",
    "    good_inputs = []\n",
    "    in_race_inputs = input_attributes\n",
    "    best_s = -1\n",
    "    while len(in_race_inputs):\n",
    "        i_to_accept, s = test_attributes(good_inputs, input_attributes)\n",
    "        print(i_to_accept, s)\n",
    "        if s < best_s:\n",
    "            return best_s, good_inputs\n",
    "        \n",
    "        best_s = s\n",
    "        good_inputs.append(i_to_accept)\n",
    "        in_race_inputs.remove(i_to_accept)\n",
    "    return best_s, good_inputs"
   ]
  },
  {
   "cell_type": "code",
   "execution_count": 10,
   "metadata": {},
   "outputs": [
    {
     "name": "stdout",
     "output_type": "stream",
     "text": [
      "max_level_of_purchasing_process\n",
      "mean_max_val\n",
      "max_basket_element_number\n",
      "mean_sum_price_of_products_in_basket\n",
      "vis_price_per_durr\n",
      "min_duration_of_session\n",
      "mean_minimum_price_of_visited_products\n",
      "basket_elem_per_durr\n",
      "min_last_order_of_customer\n"
     ]
    },
    {
     "data": {
      "text/plain": [
       "(0.8686583731349793,\n",
       " ['max_level_of_purchasing_process',\n",
       "  'mean_max_val',\n",
       "  'max_basket_element_number',\n",
       "  'mean_sum_price_of_products_in_basket',\n",
       "  'vis_price_per_durr',\n",
       "  'min_duration_of_session',\n",
       "  'mean_minimum_price_of_visited_products',\n",
       "  'basket_elem_per_durr'])"
      ]
     },
     "execution_count": 10,
     "metadata": {},
     "output_type": "execute_result"
    }
   ],
   "source": [
    "modell_evaluator(ismert_df, \n",
    "                 bemeno_valtozok, \n",
    "                 target)"
   ]
  },
  {
   "cell_type": "code",
   "execution_count": null,
   "metadata": {},
   "outputs": [],
   "source": [
    "model = RandomForestClassifier(max_depth = 14, n_estimators = 1000)\n",
    "model.fit(x_train, y_train)\n",
    "pred = model.predict_proba(x_pred)\n",
    "# accuracy_score(ismert_df[target],model.predict(ismert_df[bemeno_valtozok]))"
   ]
  },
  {
   "cell_type": "code",
   "execution_count": null,
   "metadata": {},
   "outputs": [],
   "source": [
    "res_df = pd.DataFrame({'session_id': cust_df[cust_df['test_or_train_flag'] == 1].session_id, 'prob': pred[:, 1]})\n",
    "res_df.to_csv('res.csv', index=False)"
   ]
  },
  {
   "cell_type": "code",
   "execution_count": null,
   "metadata": {},
   "outputs": [],
   "source": []
  }
 ],
 "metadata": {
  "kernelspec": {
   "display_name": "Python 3",
   "language": "python",
   "name": "python3"
  },
  "language_info": {
   "codemirror_mode": {
    "name": "ipython",
    "version": 3
   },
   "file_extension": ".py",
   "mimetype": "text/x-python",
   "name": "python",
   "nbconvert_exporter": "python",
   "pygments_lexer": "ipython3",
   "version": "3.7.3"
  }
 },
 "nbformat": 4,
 "nbformat_minor": 1
}
